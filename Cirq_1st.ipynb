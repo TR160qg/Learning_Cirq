{
  "nbformat": 4,
  "nbformat_minor": 0,
  "metadata": {
    "colab": {
      "name": "Cirq_1st.ipynb",
      "provenance": [],
      "collapsed_sections": [],
      "authorship_tag": "ABX9TyNC5VeSFxkp+yXlsm3iak/6",
      "include_colab_link": true
    },
    "kernelspec": {
      "name": "python3",
      "display_name": "Python 3"
    },
    "language_info": {
      "name": "python"
    }
  },
  "cells": [
    {
      "cell_type": "markdown",
      "metadata": {
        "id": "view-in-github",
        "colab_type": "text"
      },
      "source": [
        "<a href=\"https://colab.research.google.com/github/TR160qg/Learning_Cirq/blob/main/Cirq_1st.ipynb\" target=\"_parent\"><img src=\"https://colab.research.google.com/assets/colab-badge.svg\" alt=\"Open In Colab\"/></a>"
      ]
    },
    {
      "cell_type": "code",
      "metadata": {
        "colab": {
          "base_uri": "https://localhost:8080/"
        },
        "id": "lfuHuaF-Md6g",
        "outputId": "9250aa78-93cf-4bbe-fa5c-7d76f88d07ed"
      },
      "source": [
        "!pip install cirq==0.6 --quiet"
      ],
      "execution_count": null,
      "outputs": [
        {
          "output_type": "stream",
          "text": [
            "\u001b[K     |████████████████████████████████| 1.2 MB 5.4 MB/s \n",
            "\u001b[K     |████████████████████████████████| 1.7 MB 22.6 MB/s \n",
            "\u001b[K     |████████████████████████████████| 1.2 MB 45.0 MB/s \n",
            "\u001b[K     |████████████████████████████████| 93 kB 1.2 MB/s \n",
            "\u001b[K     |████████████████████████████████| 93 kB 1.3 MB/s \n",
            "\u001b[K     |████████████████████████████████| 93 kB 1.3 MB/s \n",
            "\u001b[K     |████████████████████████████████| 93 kB 1.1 MB/s \n",
            "\u001b[K     |████████████████████████████████| 92 kB 1.1 MB/s \n",
            "\u001b[K     |████████████████████████████████| 93 kB 1.1 MB/s \n",
            "\u001b[K     |████████████████████████████████| 93 kB 1.0 MB/s \n",
            "\u001b[K     |████████████████████████████████| 92 kB 968 kB/s \n",
            "\u001b[K     |████████████████████████████████| 92 kB 967 kB/s \n",
            "\u001b[K     |████████████████████████████████| 92 kB 228 kB/s \n",
            "\u001b[K     |████████████████████████████████| 92 kB 162 kB/s \n",
            "\u001b[K     |████████████████████████████████| 92 kB 9.6 MB/s \n",
            "\u001b[K     |████████████████████████████████| 91 kB 10.1 MB/s \n",
            "\u001b[K     |████████████████████████████████| 91 kB 10.3 MB/s \n",
            "\u001b[K     |████████████████████████████████| 91 kB 9.9 MB/s \n",
            "\u001b[K     |████████████████████████████████| 91 kB 9.6 MB/s \n",
            "\u001b[K     |████████████████████████████████| 91 kB 9.2 MB/s \n",
            "\u001b[K     |████████████████████████████████| 91 kB 7.9 MB/s \n",
            "\u001b[K     |████████████████████████████████| 91 kB 9.4 MB/s \n",
            "\u001b[K     |████████████████████████████████| 90 kB 9.0 MB/s \n",
            "\u001b[K     |████████████████████████████████| 61 kB 23 kB/s \n",
            "\u001b[K     |████████████████████████████████| 61 kB 23 kB/s \n",
            "\u001b[K     |████████████████████████████████| 61 kB 18 kB/s \n",
            "\u001b[K     |████████████████████████████████| 61 kB 7.4 MB/s \n",
            "\u001b[K     |████████████████████████████████| 61 kB 7.7 MB/s \n",
            "\u001b[K     |████████████████████████████████| 61 kB 6.4 MB/s \n",
            "\u001b[K     |████████████████████████████████| 61 kB 7.4 MB/s \n",
            "\u001b[K     |████████████████████████████████| 61 kB 6.7 MB/s \n",
            "\u001b[K     |████████████████████████████████| 61 kB 7.5 MB/s \n",
            "\u001b[K     |████████████████████████████████| 60 kB 6.3 MB/s \n",
            "\u001b[K     |████████████████████████████████| 90 kB 8.9 MB/s \n",
            "\u001b[K     |████████████████████████████████| 90 kB 8.6 MB/s \n",
            "\u001b[K     |████████████████████████████████| 100 kB 7.9 MB/s \n",
            "\u001b[?25h  Building wheel for networkx (setup.py) ... \u001b[?25l\u001b[?25hdone\n",
            "\u001b[31mERROR: pip's dependency resolver does not currently take into account all the packages that are installed. This behaviour is the source of the following dependency conflicts.\n",
            "tensorflow 2.5.0 requires protobuf>=3.9.2, but you have protobuf 3.8.0 which is incompatible.\n",
            "tensorflow-metadata 1.1.0 requires protobuf<4,>=3.13, but you have protobuf 3.8.0 which is incompatible.\n",
            "earthengine-api 0.1.272 requires google-api-python-client<2,>=1.12.1, but you have google-api-python-client 1.11.0 which is incompatible.\n",
            "albumentations 0.1.12 requires imgaug<0.2.7,>=0.2.5, but you have imgaug 0.2.9 which is incompatible.\u001b[0m\n"
          ],
          "name": "stdout"
        }
      ]
    },
    {
      "cell_type": "code",
      "metadata": {
        "colab": {
          "base_uri": "https://localhost:8080/"
        },
        "id": "EEhNdw0UNA7h",
        "outputId": "72b065a1-e37f-4228-fb15-0ff428ed774f"
      },
      "source": [
        "import cirq \n",
        "import numpy as np\n",
        "\n",
        "import matplotlib.pyplot as plt\n",
        "\n",
        "print(cirq.google.Bristlecone)"
      ],
      "execution_count": null,
      "outputs": [
        {
          "output_type": "stream",
          "text": [
            "                                             (0, 5)────(0, 6)\n",
            "                                             │         │\n",
            "                                             │         │\n",
            "                                    (1, 4)───(1, 5)────(1, 6)────(1, 7)\n",
            "                                    │        │         │         │\n",
            "                                    │        │         │         │\n",
            "                           (2, 3)───(2, 4)───(2, 5)────(2, 6)────(2, 7)───(2, 8)\n",
            "                           │        │        │         │         │        │\n",
            "                           │        │        │         │         │        │\n",
            "                  (3, 2)───(3, 3)───(3, 4)───(3, 5)────(3, 6)────(3, 7)───(3, 8)───(3, 9)\n",
            "                  │        │        │        │         │         │        │        │\n",
            "                  │        │        │        │         │         │        │        │\n",
            "         (4, 1)───(4, 2)───(4, 3)───(4, 4)───(4, 5)────(4, 6)────(4, 7)───(4, 8)───(4, 9)───(4, 10)\n",
            "         │        │        │        │        │         │         │        │        │        │\n",
            "         │        │        │        │        │         │         │        │        │        │\n",
            "(5, 0)───(5, 1)───(5, 2)───(5, 3)───(5, 4)───(5, 5)────(5, 6)────(5, 7)───(5, 8)───(5, 9)───(5, 10)───(5, 11)\n",
            "         │        │        │        │        │         │         │        │        │        │\n",
            "         │        │        │        │        │         │         │        │        │        │\n",
            "         (6, 1)───(6, 2)───(6, 3)───(6, 4)───(6, 5)────(6, 6)────(6, 7)───(6, 8)───(6, 9)───(6, 10)\n",
            "                  │        │        │        │         │         │        │        │\n",
            "                  │        │        │        │         │         │        │        │\n",
            "                  (7, 2)───(7, 3)───(7, 4)───(7, 5)────(7, 6)────(7, 7)───(7, 8)───(7, 9)\n",
            "                           │        │        │         │         │        │\n",
            "                           │        │        │         │         │        │\n",
            "                           (8, 3)───(8, 4)───(8, 5)────(8, 6)────(8, 7)───(8, 8)\n",
            "                                    │        │         │         │\n",
            "                                    │        │         │         │\n",
            "                                    (9, 4)───(9, 5)────(9, 6)────(9, 7)\n",
            "                                             │         │\n",
            "                                             │         │\n",
            "                                             (10, 5)───(10, 6)\n"
          ],
          "name": "stdout"
        }
      ]
    },
    {
      "cell_type": "markdown",
      "metadata": {
        "id": "CwBtYGvhPebP"
      },
      "source": [
        "# Creat a circuit"
      ]
    },
    {
      "cell_type": "code",
      "metadata": {
        "colab": {
          "base_uri": "https://localhost:8080/"
        },
        "id": "Rv_izYeZNf1z",
        "outputId": "8195760d-de54-4d74-e110-d255b1a3417a"
      },
      "source": [
        "# here are three qubits\n",
        "a = cirq.NamedQubit('a')\n",
        "b = cirq.NamedQubit('b')\n",
        "c = cirq.NamedQubit('c')\n",
        "\n",
        "#This is a collection of operations\n",
        "#Each operation is a gate\n",
        "ops = [cirq.H(a), cirq.H(b), cirq.CNOT(b,c), cirq.H(b)]\n",
        "\n",
        "#The circuit is constructed from the collection of operations\n",
        "circuit = cirq.Circuit(ops)\n",
        "\n",
        "#let's have a look...\n",
        "print(circuit)"
      ],
      "execution_count": null,
      "outputs": [
        {
          "output_type": "stream",
          "text": [
            "a: ───H───────────\n",
            "\n",
            "b: ───H───@───H───\n",
            "          │\n",
            "c: ───────X───────\n"
          ],
          "name": "stdout"
        }
      ]
    },
    {
      "cell_type": "markdown",
      "metadata": {
        "id": "ZQ0hx918xy_Q"
      },
      "source": [
        "Note for a controlled operation, the notation'@--' is used.\n",
        "\n",
        "There are many different types of qubits in Cirq that are defined in the cirq.Oid class, e.g. 'cirq.LineQubit'--qubits at a location in a 1D-chain, 'cirq.GridQubit'--qubits at a location in a 2D-grid."
      ]
    },
    {
      "cell_type": "code",
      "metadata": {
        "colab": {
          "base_uri": "https://localhost:8080/"
        },
        "id": "Fa_YdJqgPg0C",
        "outputId": "5359e699-571d-4050-f86e-0148f8c7b09c"
      },
      "source": [
        "# Use cirq.unitary to see the matrix correspond to Hadamard gate\n",
        "cirq.unitary(cirq.H)"
      ],
      "execution_count": null,
      "outputs": [
        {
          "output_type": "execute_result",
          "data": {
            "text/plain": [
              "array([[ 0.70710678+0.j,  0.70710678+0.j],\n",
              "       [ 0.70710678+0.j, -0.70710678+0.j]])"
            ]
          },
          "metadata": {
            "tags": []
          },
          "execution_count": 6
        }
      ]
    },
    {
      "cell_type": "markdown",
      "metadata": {
        "id": "Ju9zcSkxzyFA"
      },
      "source": [
        "**Gate** objects have the ability to be applied 'On' to one or more qubits. There are two ways to do this for gates, either e.g. cirq.H.on(a) or cirq.H(a). "
      ]
    },
    {
      "cell_type": "markdown",
      "metadata": {
        "id": "qe4y9P4T0XXo"
      },
      "source": [
        "**Circuit:** from a collection of operations, you can construct a *Circuit* using the class method Circuit(operations):\n",
        "\n",
        "circuit = cirq.Circuit(ops)"
      ]
    },
    {
      "cell_type": "markdown",
      "metadata": {
        "id": "thFJFgY40_uB"
      },
      "source": [
        "**Diagram** Circuits can be printed as text diagrams, it is very helpful but does not get into the interanl details of how the Circuit is represented.\n",
        "\n",
        "A circuit is made up of a sequence of Moment objects. And each Moment object is a list of non-overlapping Operations. \n",
        "To see the internal structire of a circuit, one can iterate over the Moments in the circuit while printing them out."
      ]
    },
    {
      "cell_type": "code",
      "metadata": {
        "colab": {
          "base_uri": "https://localhost:8080/"
        },
        "id": "NhYyO1T8zj3o",
        "outputId": "93f0ff4c-2f0d-4687-842b-4469a32a4435"
      },
      "source": [
        "for i, moment in enumerate(circuit):\n",
        "  print('Moment {}: {}'.format(i, moment))"
      ],
      "execution_count": null,
      "outputs": [
        {
          "output_type": "stream",
          "text": [
            "Moment 0: H(a) and H(b)\n",
            "Moment 1: CNOT(b, c)\n",
            "Moment 2: H(b)\n"
          ],
          "name": "stdout"
        }
      ]
    },
    {
      "cell_type": "markdown",
      "metadata": {
        "id": "Pcfr12Tw3JO6"
      },
      "source": [
        "One can also print the circuits by [repr](https://docs.python.org/3/library/functions.html#repr), which returns a more detailed expression."
      ]
    },
    {
      "cell_type": "code",
      "metadata": {
        "colab": {
          "base_uri": "https://localhost:8080/"
        },
        "id": "_mZysD7I2_T1",
        "outputId": "7ba03aea-7f3a-43bb-8c02-f7910c9b2111"
      },
      "source": [
        "print(repr(circuit))"
      ],
      "execution_count": null,
      "outputs": [
        {
          "output_type": "stream",
          "text": [
            "cirq.Circuit([\n",
            "    cirq.Moment(operations=[\n",
            "        cirq.H.on(cirq.NamedQubit('a')),\n",
            "        cirq.H.on(cirq.NamedQubit('b')),\n",
            "    ]),\n",
            "    cirq.Moment(operations=[\n",
            "        cirq.CNOT.on(cirq.NamedQubit('b'), cirq.NamedQubit('c')),\n",
            "    ]),\n",
            "    cirq.Moment(operations=[\n",
            "        cirq.H.on(cirq.NamedQubit('b')),\n",
            "    ]),\n",
            "])\n"
          ],
          "name": "stdout"
        }
      ]
    },
    {
      "cell_type": "code",
      "metadata": {
        "id": "Mih97fSs3qes"
      },
      "source": [
        ""
      ],
      "execution_count": null,
      "outputs": []
    },
    {
      "cell_type": "markdown",
      "metadata": {
        "id": "QQnrj-fL30Ri"
      },
      "source": [
        "# Building Circuits\n",
        "1. circuit(*ops)\n",
        "2. append\n",
        "3. insert: InsertStrategy"
      ]
    },
    {
      "cell_type": "code",
      "metadata": {
        "colab": {
          "base_uri": "https://localhost:8080/"
        },
        "id": "SdIHupb64DWi",
        "outputId": "ceacecd6-8d69-4df4-dd71-92966058aa73"
      },
      "source": [
        "print(circuit)"
      ],
      "execution_count": null,
      "outputs": [
        {
          "output_type": "stream",
          "text": [
            "a: ───H───────────\n",
            "\n",
            "b: ───H───@───H───\n",
            "          │\n",
            "c: ───────X───────\n"
          ],
          "name": "stdout"
        }
      ]
    },
    {
      "cell_type": "code",
      "metadata": {
        "colab": {
          "base_uri": "https://localhost:8080/"
        },
        "id": "w9rQRfTI4Fil",
        "outputId": "191dae2b-50a1-42a7-dc47-5ae763f471d3"
      },
      "source": [
        "# Create an empty circuit on three qubits 'a', 'b' and 'c'\n",
        "circuit = cirq.Circuit()\n",
        "\n",
        "# Insert a CZ at the first(zero) moment\n",
        "circuit.append([cirq.CZ(a, b)])\n",
        "# The next free moment on qubits a and b is one (1)\n",
        "# On qubit c the next free moment is zero\n",
        "circuit.append([cirq.H(b), cirq.H(b), cirq.H(a), cirq.H(c)])\n",
        "# We can add a T gate inline to the last Hadamard on moment two\n",
        "circuit.append(cirq.T.on(c), strategy=cirq.InsertStrategy.INLINE)\n",
        "\n",
        "print(circuit, '\\n')\n",
        "print(repr(circuit))"
      ],
      "execution_count": null,
      "outputs": [
        {
          "output_type": "stream",
          "text": [
            "a: ───@───H───────\n",
            "      │\n",
            "b: ───@───H───H───\n",
            "\n",
            "c: ───H───────T─── \n",
            "\n",
            "cirq.Circuit([\n",
            "    cirq.Moment(operations=[\n",
            "        cirq.CZ.on(cirq.NamedQubit('a'), cirq.NamedQubit('b')),\n",
            "        cirq.H.on(cirq.NamedQubit('c')),\n",
            "    ]),\n",
            "    cirq.Moment(operations=[\n",
            "        cirq.H.on(cirq.NamedQubit('b')),\n",
            "        cirq.H.on(cirq.NamedQubit('a')),\n",
            "    ]),\n",
            "    cirq.Moment(operations=[\n",
            "        cirq.H.on(cirq.NamedQubit('b')),\n",
            "        cirq.T.on(cirq.NamedQubit('c')),\n",
            "    ]),\n",
            "])\n"
          ],
          "name": "stdout"
        }
      ]
    },
    {
      "cell_type": "markdown",
      "metadata": {
        "id": "yLlHuret6c5G"
      },
      "source": [
        "# Gates\n",
        "\n",
        "Many common gates are implemented in Cirq, including:"
      ]
    },
    {
      "cell_type": "code",
      "metadata": {
        "colab": {
          "base_uri": "https://localhost:8080/"
        },
        "id": "Kw_9x30c6alo",
        "outputId": "dec4cdea-ad68-4bef-8e61-817704178b25"
      },
      "source": [
        "q0, q1, q2 = cirq.LineQubit.range(3)\n",
        "ops = [\n",
        "       cirq.X(q0),\n",
        "       cirq.Y(q1),\n",
        "       cirq.Z(q2),\n",
        "       cirq.CZ(q0, q1),\n",
        "       cirq.CNOT(q1, q2),\n",
        "       cirq.H(q0),\n",
        "       cirq.T(q1),\n",
        "       cirq.S(q2),\n",
        "       cirq.CCZ(q0, q1, q2),\n",
        "       cirq.SWAP(q0, q1),\n",
        "       cirq.CSWAP(q0, q1, q2),\n",
        "       cirq.CCX(q0, q1, q2),\n",
        "       cirq.ISWAP(q0, q1),\n",
        "       cirq.Rx(0.5 * np.pi)(q0),\n",
        "       cirq.Ry(0.5 * np.pi)(q1),\n",
        "       cirq.Rz(0.5 * np.pi)(q2),\n",
        "       #Square root of X\n",
        "       (cirq.X**0.5)(q0),\n",
        "]\n",
        "\n",
        "print(cirq.Circuit(ops))"
      ],
      "execution_count": null,
      "outputs": [
        {
          "output_type": "stream",
          "text": [
            "0: ───X───@───H───────@───×───@───@───iSwap──────Rx(0.5π)───X^0.5───\n",
            "          │           │   │   │   │   │\n",
            "1: ───Y───@───@───T───@───×───×───@───iSwap──────Ry(0.5π)───────────\n",
            "              │       │       │   │\n",
            "2: ───Z───────X───S───@───────×───X───Rz(0.5π)──────────────────────\n"
          ],
          "name": "stdout"
        }
      ]
    },
    {
      "cell_type": "markdown",
      "metadata": {
        "id": "nufoHaxE8nXW"
      },
      "source": [
        "! Matrix representations in the computational basis can be obtained by calling **cirq.unitary** on the gate. For example:"
      ]
    },
    {
      "cell_type": "code",
      "metadata": {
        "colab": {
          "base_uri": "https://localhost:8080/"
        },
        "id": "7E10qddl8ceV",
        "outputId": "440056bc-48a6-43bc-dd79-53016f446560"
      },
      "source": [
        "print(cirq.unitary(cirq.CNOT))"
      ],
      "execution_count": null,
      "outputs": [
        {
          "output_type": "stream",
          "text": [
            "[[1.+0.j 0.+0.j 0.+0.j 0.+0.j]\n",
            " [0.+0.j 1.+0.j 0.+0.j 0.+0.j]\n",
            " [0.+0.j 0.+0.j 0.+0.j 1.+0.j]\n",
            " [0.+0.j 0.+0.j 1.+0.j 0.+0.j]]\n"
          ],
          "name": "stdout"
        }
      ]
    },
    {
      "cell_type": "code",
      "metadata": {
        "colab": {
          "base_uri": "https://localhost:8080/"
        },
        "id": "bgqf9RI086Bk",
        "outputId": "f8467d8f-ae23-4630-d0b4-0cc9464d6e73"
      },
      "source": [
        "print(cirq.unitary(cirq.Rx(0.5*np.pi)))"
      ],
      "execution_count": null,
      "outputs": [
        {
          "output_type": "stream",
          "text": [
            "[[0.70710678+0.j         0.        -0.70710678j]\n",
            " [0.        -0.70710678j 0.70710678+0.j        ]]\n"
          ],
          "name": "stdout"
        }
      ]
    },
    {
      "cell_type": "markdown",
      "metadata": {
        "id": "O3RbV0-m9Let"
      },
      "source": [
        "For the variational algrithms we will need the single qubit rotation gates:\n",
        "1. cirq.Rx($\\theta$)\n",
        "2. cirq.Ry($\\theta$)\n",
        "3. cirq.Rz($\\theta$)"
      ]
    },
    {
      "cell_type": "markdown",
      "metadata": {
        "id": "4S7_5lEE-GCA"
      },
      "source": [
        "# Simulation of a circuit\n",
        "\n",
        "The simulate_moment_steps method allows to simulate the circuit Moment by Moment.\n",
        "\n",
        "At each point, the state can be accessed.\n",
        "\n",
        "Example: create a circuit that is a series of small cirq.Rx rotations and plot te probability of measuring the state in the |0> state. Note the default initial state is |0>."
      ]
    },
    {
      "cell_type": "code",
      "metadata": {
        "colab": {
          "base_uri": "https://localhost:8080/",
          "height": 374
        },
        "id": "ZGep3bfb9FyV",
        "outputId": "21dab103-4e62-4841-d073-aadbcdb61e54"
      },
      "source": [
        "# A single qubit circuit\n",
        "a = cirq.NamedQubit('a')\n",
        "\n",
        "# there are 200 Moments in this circuit. Each is a simulation step.\n",
        "steps = 200\n",
        "small_rotations = [cirq.Rx(np.pi / 50.0)(a) for theta in range(steps)]\n",
        "circuit = cirq.Circuit(small_rotations)\n",
        "\n",
        "print('Circuit is a bunch of small rotations about Pauli X axis:')\n",
        "print('{}\\n'.format(circuit))\n",
        "\n",
        "# store indices of steps on the X axis\n",
        "z = []\n",
        "# store probabilities on the Y axis\n",
        "p0 = []\n",
        "\n",
        "print('We step through the circuit and plot the probability for the |0> states as a function of index of the moment being stepped over.')\n",
        "\n",
        "simulator = cirq.Simulator()\n",
        "for i, step in enumerate(simulator.simulate_moment_steps(circuit)):\n",
        "  # probability is square of amplitude\n",
        "  prob = np.abs(step.state_vector())**2\n",
        "  # save the index\n",
        "  z.append(i)\n",
        "  # save the probability\n",
        "  p0.append(prob[0])\n",
        "\n",
        "# plot a graph\n",
        "plt.style.use('seaborn-whitegrid')\n",
        "plt.plot(z, p0, 'o')\n"
      ],
      "execution_count": null,
      "outputs": [
        {
          "output_type": "stream",
          "text": [
            "Circuit is a bunch of small rotations about Pauli X axis:\n",
            "a: ───Rx(0.02π)───Rx(0.02π)───Rx(0.02π)───Rx(0.02π)───Rx(0.02π)───Rx(0.02π)───Rx(0.02π)───Rx(0.02π)───Rx(0.02π)───Rx(0.02π)───Rx(0.02π)───Rx(0.02π)───Rx(0.02π)───Rx(0.02π)───Rx(0.02π)───Rx(0.02π)───Rx(0.02π)───Rx(0.02π)───Rx(0.02π)───Rx(0.02π)───Rx(0.02π)───Rx(0.02π)───Rx(0.02π)───Rx(0.02π)───Rx(0.02π)───Rx(0.02π)───Rx(0.02π)───Rx(0.02π)───Rx(0.02π)───Rx(0.02π)───Rx(0.02π)───Rx(0.02π)───Rx(0.02π)───Rx(0.02π)───Rx(0.02π)───Rx(0.02π)───Rx(0.02π)───Rx(0.02π)───Rx(0.02π)───Rx(0.02π)───Rx(0.02π)───Rx(0.02π)───Rx(0.02π)───Rx(0.02π)───Rx(0.02π)───Rx(0.02π)───Rx(0.02π)───Rx(0.02π)───Rx(0.02π)───Rx(0.02π)───Rx(0.02π)───Rx(0.02π)───Rx(0.02π)───Rx(0.02π)───Rx(0.02π)───Rx(0.02π)───Rx(0.02π)───Rx(0.02π)───Rx(0.02π)───Rx(0.02π)───Rx(0.02π)───Rx(0.02π)───Rx(0.02π)───Rx(0.02π)───Rx(0.02π)───Rx(0.02π)───Rx(0.02π)───Rx(0.02π)───Rx(0.02π)───Rx(0.02π)───Rx(0.02π)───Rx(0.02π)───Rx(0.02π)───Rx(0.02π)───Rx(0.02π)───Rx(0.02π)───Rx(0.02π)───Rx(0.02π)───Rx(0.02π)───Rx(0.02π)───Rx(0.02π)───Rx(0.02π)───Rx(0.02π)───Rx(0.02π)───Rx(0.02π)───Rx(0.02π)───Rx(0.02π)───Rx(0.02π)───Rx(0.02π)───Rx(0.02π)───Rx(0.02π)───Rx(0.02π)───Rx(0.02π)───Rx(0.02π)───Rx(0.02π)───Rx(0.02π)───Rx(0.02π)───Rx(0.02π)───Rx(0.02π)───Rx(0.02π)───Rx(0.02π)───Rx(0.02π)───Rx(0.02π)───Rx(0.02π)───Rx(0.02π)───Rx(0.02π)───Rx(0.02π)───Rx(0.02π)───Rx(0.02π)───Rx(0.02π)───Rx(0.02π)───Rx(0.02π)───Rx(0.02π)───Rx(0.02π)───Rx(0.02π)───Rx(0.02π)───Rx(0.02π)───Rx(0.02π)───Rx(0.02π)───Rx(0.02π)───Rx(0.02π)───Rx(0.02π)───Rx(0.02π)───Rx(0.02π)───Rx(0.02π)───Rx(0.02π)───Rx(0.02π)───Rx(0.02π)───Rx(0.02π)───Rx(0.02π)───Rx(0.02π)───Rx(0.02π)───Rx(0.02π)───Rx(0.02π)───Rx(0.02π)───Rx(0.02π)───Rx(0.02π)───Rx(0.02π)───Rx(0.02π)───Rx(0.02π)───Rx(0.02π)───Rx(0.02π)───Rx(0.02π)───Rx(0.02π)───Rx(0.02π)───Rx(0.02π)───Rx(0.02π)───Rx(0.02π)───Rx(0.02π)───Rx(0.02π)───Rx(0.02π)───Rx(0.02π)───Rx(0.02π)───Rx(0.02π)───Rx(0.02π)───Rx(0.02π)───Rx(0.02π)───Rx(0.02π)───Rx(0.02π)───Rx(0.02π)───Rx(0.02π)───Rx(0.02π)───Rx(0.02π)───Rx(0.02π)───Rx(0.02π)───Rx(0.02π)───Rx(0.02π)───Rx(0.02π)───Rx(0.02π)───Rx(0.02π)───Rx(0.02π)───Rx(0.02π)───Rx(0.02π)───Rx(0.02π)───Rx(0.02π)───Rx(0.02π)───Rx(0.02π)───Rx(0.02π)───Rx(0.02π)───Rx(0.02π)───Rx(0.02π)───Rx(0.02π)───Rx(0.02π)───Rx(0.02π)───Rx(0.02π)───Rx(0.02π)───Rx(0.02π)───Rx(0.02π)───Rx(0.02π)───Rx(0.02π)───Rx(0.02π)───Rx(0.02π)───Rx(0.02π)───Rx(0.02π)───Rx(0.02π)───Rx(0.02π)───Rx(0.02π)───Rx(0.02π)───Rx(0.02π)───Rx(0.02π)───\n",
            "\n",
            "We step through the circuit and plot the probability for the |0> states as a function of index of the moment being stepped over.\n"
          ],
          "name": "stdout"
        },
        {
          "output_type": "execute_result",
          "data": {
            "text/plain": [
              "[<matplotlib.lines.Line2D at 0x7efe3d68ca50>]"
            ]
          },
          "metadata": {
            "tags": []
          },
          "execution_count": 29
        },
        {
          "output_type": "display_data",
          "data": {
            "image/png": "[encoded data removed]",
            "text/plain": [
              "<Figure size 432x288 with 1 Axes>"
            ]
          },
          "metadata": {
            "tags": []
          }
        }
      ]
    },
    {
      "cell_type": "markdown",
      "metadata": {
        "id": "xtEVNn46EY4Z"
      },
      "source": [
        "Above we have given ourself the direct access to the wave function and calculated the exact probabilities. Suppose we want to sample from the wave function at each point instead."
      ]
    },
    {
      "cell_type": "code",
      "metadata": {
        "colab": {
          "base_uri": "https://localhost:8080/",
          "height": 355
        },
        "id": "G2a8YX_I9aFQ",
        "outputId": "bdca3385-e740-45b9-a275-9304f9b9a81c"
      },
      "source": [
        "# A single qubit circuit\n",
        "a = cirq.NamedQubit('a')\n",
        "\n",
        "# there are 200 Moments in this circuit. Each is a simulation step.\n",
        "steps = 200\n",
        "small_rotations = [cirq.Rx(np.pi / 50.0)(a) for theta in range(steps)]\n",
        "circuit = cirq.Circuit(small_rotations)\n",
        "\n",
        "print('Circuit is a bunch of small rotations about Pauli X axis:')\n",
        "print('{}\\n'.format(circuit))\n",
        "\n",
        "# store indices of steps on the X axis\n",
        "z = []\n",
        "# store probabilities on the Y axis\n",
        "p0 = []\n",
        "\n",
        "# sampling repetitions\n",
        "repetitions = 1000\n",
        "\n",
        "simulator = cirq.Simulator()\n",
        "for i, step in enumerate(simulator.simulate_moment_steps(circuit)):\n",
        "  samples = step.sample([a], repetitions=repetitions)\n",
        "  # 0 is False, 1 is True\n",
        "  prob = np.sum(samples, axis=0)\n",
        "  # 1 - (the sum of 1 divided by repetitions)\n",
        "  prob0 = 1 - (prob[0] / repetitions) \n",
        "\n",
        "  # save the index\n",
        "  z.append(i)\n",
        "  # save the probability\n",
        "  p0.append(prob0)\n",
        "\n",
        "# plot a graph\n",
        "plt.style.use('seaborn-whitegrid')\n",
        "plt.plot(z, p0, 'o')"
      ],
      "execution_count": null,
      "outputs": [
        {
          "output_type": "stream",
          "text": [
            "Circuit is a bunch of small rotations about Pauli X axis:\n",
            "a: ───Rx(0.02π)───Rx(0.02π)───Rx(0.02π)───Rx(0.02π)───Rx(0.02π)───Rx(0.02π)───Rx(0.02π)───Rx(0.02π)───Rx(0.02π)───Rx(0.02π)───Rx(0.02π)───Rx(0.02π)───Rx(0.02π)───Rx(0.02π)───Rx(0.02π)───Rx(0.02π)───Rx(0.02π)───Rx(0.02π)───Rx(0.02π)───Rx(0.02π)───Rx(0.02π)───Rx(0.02π)───Rx(0.02π)───Rx(0.02π)───Rx(0.02π)───Rx(0.02π)───Rx(0.02π)───Rx(0.02π)───Rx(0.02π)───Rx(0.02π)───Rx(0.02π)───Rx(0.02π)───Rx(0.02π)───Rx(0.02π)───Rx(0.02π)───Rx(0.02π)───Rx(0.02π)───Rx(0.02π)───Rx(0.02π)───Rx(0.02π)───Rx(0.02π)───Rx(0.02π)───Rx(0.02π)───Rx(0.02π)───Rx(0.02π)───Rx(0.02π)───Rx(0.02π)───Rx(0.02π)───Rx(0.02π)───Rx(0.02π)───Rx(0.02π)───Rx(0.02π)───Rx(0.02π)───Rx(0.02π)───Rx(0.02π)───Rx(0.02π)───Rx(0.02π)───Rx(0.02π)───Rx(0.02π)───Rx(0.02π)───Rx(0.02π)───Rx(0.02π)───Rx(0.02π)───Rx(0.02π)───Rx(0.02π)───Rx(0.02π)───Rx(0.02π)───Rx(0.02π)───Rx(0.02π)───Rx(0.02π)───Rx(0.02π)───Rx(0.02π)───Rx(0.02π)───Rx(0.02π)───Rx(0.02π)───Rx(0.02π)───Rx(0.02π)───Rx(0.02π)───Rx(0.02π)───Rx(0.02π)───Rx(0.02π)───Rx(0.02π)───Rx(0.02π)───Rx(0.02π)───Rx(0.02π)───Rx(0.02π)───Rx(0.02π)───Rx(0.02π)───Rx(0.02π)───Rx(0.02π)───Rx(0.02π)───Rx(0.02π)───Rx(0.02π)───Rx(0.02π)───Rx(0.02π)───Rx(0.02π)───Rx(0.02π)───Rx(0.02π)───Rx(0.02π)───Rx(0.02π)───Rx(0.02π)───Rx(0.02π)───Rx(0.02π)───Rx(0.02π)───Rx(0.02π)───Rx(0.02π)───Rx(0.02π)───Rx(0.02π)───Rx(0.02π)───Rx(0.02π)───Rx(0.02π)───Rx(0.02π)───Rx(0.02π)───Rx(0.02π)───Rx(0.02π)───Rx(0.02π)───Rx(0.02π)───Rx(0.02π)───Rx(0.02π)───Rx(0.02π)───Rx(0.02π)───Rx(0.02π)───Rx(0.02π)───Rx(0.02π)───Rx(0.02π)───Rx(0.02π)───Rx(0.02π)───Rx(0.02π)───Rx(0.02π)───Rx(0.02π)───Rx(0.02π)───Rx(0.02π)───Rx(0.02π)───Rx(0.02π)───Rx(0.02π)───Rx(0.02π)───Rx(0.02π)───Rx(0.02π)───Rx(0.02π)───Rx(0.02π)───Rx(0.02π)───Rx(0.02π)───Rx(0.02π)───Rx(0.02π)───Rx(0.02π)───Rx(0.02π)───Rx(0.02π)───Rx(0.02π)───Rx(0.02π)───Rx(0.02π)───Rx(0.02π)───Rx(0.02π)───Rx(0.02π)───Rx(0.02π)───Rx(0.02π)───Rx(0.02π)───Rx(0.02π)───Rx(0.02π)───Rx(0.02π)───Rx(0.02π)───Rx(0.02π)───Rx(0.02π)───Rx(0.02π)───Rx(0.02π)───Rx(0.02π)───Rx(0.02π)───Rx(0.02π)───Rx(0.02π)───Rx(0.02π)───Rx(0.02π)───Rx(0.02π)───Rx(0.02π)───Rx(0.02π)───Rx(0.02π)───Rx(0.02π)───Rx(0.02π)───Rx(0.02π)───Rx(0.02π)───Rx(0.02π)───Rx(0.02π)───Rx(0.02π)───Rx(0.02π)───Rx(0.02π)───Rx(0.02π)───Rx(0.02π)───Rx(0.02π)───Rx(0.02π)───Rx(0.02π)───Rx(0.02π)───Rx(0.02π)───Rx(0.02π)───Rx(0.02π)───Rx(0.02π)───Rx(0.02π)───Rx(0.02π)───Rx(0.02π)───Rx(0.02π)───Rx(0.02π)───Rx(0.02π)───Rx(0.02π)───\n",
            "\n"
          ],
          "name": "stdout"
        },
        {
          "output_type": "execute_result",
          "data": {
            "text/plain": [
              "[<matplotlib.lines.Line2D at 0x7efe3cc47e50>]"
            ]
          },
          "metadata": {
            "tags": []
          },
          "execution_count": 32
        },
        {
          "output_type": "display_data",
          "data": {
            "image/png": "[encoded data removed]",
            "text/plain": [
              "<Figure size 432x288 with 1 Axes>"
            ]
          },
          "metadata": {
            "tags": []
          }
        }
      ]
    },
    {
      "cell_type": "markdown",
      "metadata": {
        "id": "pUI4srA_HEot"
      },
      "source": [
        "# Gate decompositions\n",
        "Often the set of gates that one can apply is limited, either by the phyiscal hardware or perhaps by the quantum error correcting code one works with.\n",
        "\n",
        "Cirq support gate decomposition via the **decompose** protocol"
      ]
    },
    {
      "cell_type": "code",
      "metadata": {
        "colab": {
          "base_uri": "https://localhost:8080/"
        },
        "id": "GZ2pxn4BGg8r",
        "outputId": "c9e8d0e1-8b1f-4e5b-cf05-184f63fc865e"
      },
      "source": [
        "class HXGate(cirq.SingleQubitGate):\n",
        "  def _decompose_(self, qubits):\n",
        "    return cirq.H(*qubits), cirq.X(*qubits)\n",
        "\n",
        "  def _str_(self):\n",
        "    return '*HX*'\n",
        "\n",
        "HX = HXGate()\n",
        "\n",
        "a = cirq.NamedQubit('a')\n",
        "circuit = cirq.Circuit([HX(a)])\n",
        "print('before decomposition: ')\n",
        "print(circuit)\n",
        "print(cirq.unitary(circuit))\n",
        "\n",
        "print()\n",
        "\n",
        "print('after decomposition: ')\n",
        "print(cirq.Circuit(cirq.decompose(circuit)))\n",
        "print(cirq.unitary(cirq.Y**0.5))"
      ],
      "execution_count": null,
      "outputs": [
        {
          "output_type": "stream",
          "text": [
            "before decomposition: \n",
            "a: ───<__main__.HXGate object at 0x7efe3cbad210>───\n",
            "[[ 0.70710678+0.j -0.70710678+0.j]\n",
            " [ 0.70710678+0.j  0.70710678+0.j]]\n",
            "\n",
            "after decomposition: \n",
            "a: ───Y^0.5───X───X───\n",
            "[[ 0.5+0.5j -0.5-0.5j]\n",
            " [ 0.5+0.5j  0.5+0.5j]]\n"
          ],
          "name": "stdout"
        }
      ]
    },
    {
      "cell_type": "markdown",
      "metadata": {
        "id": "ee3YH1cmKQeW"
      },
      "source": [
        "The decomposition indicates that the HX gate is equivalent to the Y^0.5 gate, although the matrices differ.\n",
        "Equivalent gates need to map any input state to output states that can only differ by a global phase, since\n",
        "\n",
        "<x|$e^{i \\phi}$O$e^{-i \\phi}$|x> = <x|o|x> for any |x> and any observable O.\n",
        "This can be tested via"
      ]
    },
    {
      "cell_type": "code",
      "metadata": {
        "colab": {
          "base_uri": "https://localhost:8080/"
        },
        "id": "ezLH9gkXKPiY",
        "outputId": "79a7b58f-6eec-4336-c6db-4f41a0e9f357"
      },
      "source": [
        "print(cirq.testing.assert_allclose_up_to_global_phase(cirq.unitary(cirq.Y**0.5), cirq.unitary(circuit), atol=1e-10))"
      ],
      "execution_count": null,
      "outputs": [
        {
          "output_type": "stream",
          "text": [
            "None\n"
          ],
          "name": "stdout"
        }
      ]
    },
    {
      "cell_type": "markdown",
      "metadata": {
        "id": "1Xx9IF_wPBH9"
      },
      "source": [
        "Note that upper code not only decomposed the HX gate into H and X but also decomposed H into Y**0.5 and X. In order to decompose only once, one can use cirq.decompose_once:"
      ]
    },
    {
      "cell_type": "code",
      "metadata": {
        "colab": {
          "base_uri": "https://localhost:8080/"
        },
        "id": "ZlBCcht4Nnaf",
        "outputId": "c401a3ee-7379-45ee-b422-f1db24af3998"
      },
      "source": [
        "print(cirq.Circuit(cirq.decompose_once(HX(a))))"
      ],
      "execution_count": null,
      "outputs": [
        {
          "output_type": "stream",
          "text": [
            "a: ───H───X───\n"
          ],
          "name": "stdout"
        }
      ]
    },
    {
      "cell_type": "markdown",
      "metadata": {
        "id": "s6qQXmPnQ3d2"
      },
      "source": [
        "To change this decomposition at run time for the specific hardware or context, define an interceptor function which does aspecific decomposition before falling back to the default."
      ]
    },
    {
      "cell_type": "code",
      "metadata": {
        "colab": {
          "base_uri": "https://localhost:8080/",
          "height": 34
        },
        "id": "skjJgK5lPZBs",
        "outputId": "2b9c4220-93cd-4c6d-b0f0-16c71a8e2049"
      },
      "source": [
        "def my_decompose(op):\n",
        "  if isinstance(op, cirq.GateOperation) and isinstance(op.gate, HXGate):\n",
        "    return cirq.Z(*op.qubits), cirq.H(*op.qubits)\n",
        "\n",
        "cirq.Circuit(cirq.decompose(HX(a), intercepting_decomposer=my_decompose))"
      ],
      "execution_count": null,
      "outputs": [
        {
          "output_type": "execute_result",
          "data": {
            "text/html": [
              "<pre style=\"overflow: auto; white-space: pre;\">a: ───Z───Y^0.5───X───</pre>"
            ],
            "text/plain": [
              "a: ───Z───Y^0.5───X───"
            ]
          },
          "metadata": {
            "tags": []
          },
          "execution_count": 36
        }
      ]
    },
    {
      "cell_type": "markdown",
      "metadata": {
        "id": "8jZYlomLRPrY"
      },
      "source": [
        "Can also define a predicate the says which gates to keep without further decomposition (default predicate is to only keep gates that cannot be decomposed)."
      ]
    },
    {
      "cell_type": "code",
      "metadata": {
        "colab": {
          "base_uri": "https://localhost:8080/"
        },
        "id": "Mn-Q3dOSQrJu",
        "outputId": "bf462f12-4196-4ca1-a110-cab3a14f9f4a"
      },
      "source": [
        "def keep_h_and_x(op):\n",
        "  return isinstance(op, cirq.GateOperation) and op.gate in [cirq.H, cirq.X]\n",
        "\n",
        "print(cirq.decompose(HX(a), keep=keep_h_and_x))"
      ],
      "execution_count": null,
      "outputs": [
        {
          "output_type": "stream",
          "text": [
            "[cirq.H.on(cirq.NamedQubit('a')), cirq.X.on(cirq.NamedQubit('a'))]\n"
          ],
          "name": "stdout"
        }
      ]
    },
    {
      "cell_type": "markdown",
      "metadata": {
        "id": "p-vMtaD9Se5e"
      },
      "source": [
        "# Simulation of a circuit\n",
        "\n",
        "Now try to use Cirq to simulate the circuit"
      ]
    },
    {
      "cell_type": "code",
      "metadata": {
        "colab": {
          "base_uri": "https://localhost:8080/"
        },
        "id": "5mEfqFAlSJYn",
        "outputId": "82d41ade-3833-43a2-dbfa-f008bf730940"
      },
      "source": [
        "# This circuit is written like a generator\n",
        "# Gate are not added to a collection, but returned iteratively using keyword 'yeild'\n",
        "# compare to the meathod before using 'yeild' allow us to generate operation in-time\n",
        "# which can save a lot of RAM\n",
        "\n",
        "def basic_circuit(measure=True):\n",
        "  # The square root of the Pauli X gate\n",
        "  sqrt_x = cirq.X**0.5\n",
        "  # The CZ gate\n",
        "  cz = cirq.CZ\n",
        "\n",
        "  yield sqrt_x(a), sqrt_x(b)\n",
        "  yield cz(a, b)\n",
        "  yield sqrt_x(a), sqrt_x(b)\n",
        "\n",
        "  if measure:\n",
        "    yield cirq.measure(a, b)\n",
        "    #yield cirq.measure(b, a)\n",
        "\n",
        "circuit = cirq.Circuit(basic_circuit())\n",
        "print(circuit) "
      ],
      "execution_count": null,
      "outputs": [
        {
          "output_type": "stream",
          "text": [
            "a: ───X^0.5───@───X^0.5───M───\n",
            "              │           │\n",
            "b: ───X^0.5───@───X^0.5───M───\n"
          ],
          "name": "stdout"
        }
      ]
    },
    {
      "cell_type": "markdown",
      "metadata": {
        "id": "X5FBR9RbWeqI"
      },
      "source": [
        "Python functions that have a **yield** are **generators**. **Generators** are functions that act as iterators, but are much more compact to code."
      ]
    },
    {
      "cell_type": "code",
      "metadata": {
        "colab": {
          "base_uri": "https://localhost:8080/"
        },
        "id": "wieVQF1VVPE-",
        "outputId": "f359c61c-f440-46eb-b7c9-433a5c10c00d"
      },
      "source": [
        "for x in basic_circuit():\n",
        "  print(x)"
      ],
      "execution_count": null,
      "outputs": [
        {
          "output_type": "stream",
          "text": [
            "((cirq.X**0.5).on(cirq.NamedQubit('a')), (cirq.X**0.5).on(cirq.NamedQubit('b')))\n",
            "CZ(a, b)\n",
            "((cirq.X**0.5).on(cirq.NamedQubit('a')), (cirq.X**0.5).on(cirq.NamedQubit('b')))\n",
            "cirq.MeasurementGate(2, 'a,b', ())(a, b)\n"
          ],
          "name": "stdout"
        }
      ]
    },
    {
      "cell_type": "markdown",
      "metadata": {
        "id": "qdbACu0uXL4o"
      },
      "source": [
        "Each **yields** produces what was yield, here Operations, or list of Operations.\n",
        "\n",
        "For large circuits, using generators is much more memory efficient than storing the whole circuit.\n",
        "\n",
        "When you pass this iterator to the append method, the **Circuit** command will flatten all of these and pass them as one giant list to Circuit.append (also works for Circuit.insert).\n",
        "\n",
        "Thus can define generator for sub-circuits, whcih can vary by size or **Operation** parameters."
      ]
    },
    {
      "cell_type": "code",
      "metadata": {
        "colab": {
          "base_uri": "https://localhost:8080/"
        },
        "id": "HGDxOmKmYr8v",
        "outputId": "0f282fd3-ad34-424e-a738-cc12e79fbb9e"
      },
      "source": [
        "simulator = cirq.Simulator()\n",
        "circuit = cirq.Circuit(basic_circuit())\n",
        "\n",
        "# First option: sample from the circuit\n",
        "result = simulator.run(circuit)\n",
        "\n",
        "print('Measurement results')\n",
        "print(result)"
      ],
      "execution_count": null,
      "outputs": [
        {
          "output_type": "stream",
          "text": [
            "Measurement results\n",
            "a,b=0, 0\n"
          ],
          "name": "stdout"
        }
      ]
    },
    {
      "cell_type": "markdown",
      "metadata": {
        "id": "7Ycok28JZQbZ"
      },
      "source": [
        "Running this multiple times should result in different measurement results, since the above circuit produces a superposition over all computational basis states.\n",
        "\n",
        "The **run** method on the simulator mimics the actual hardware. It deosn't give access to full wavefunction."
      ]
    },
    {
      "cell_type": "code",
      "metadata": {
        "colab": {
          "base_uri": "https://localhost:8080/"
        },
        "id": "YRL1QnBvW2sa",
        "outputId": "e4da8c93-8b63-4bb9-9a7e-a3e458fa5512"
      },
      "source": [
        "circuit = cirq.Circuit()\n",
        "circuit.append(basic_circuit(measure=False))\n",
        "\n",
        "# Second option: get the wavefunction\n",
        "result = simulator.simulate(circuit, qubit_order=[a, b]) # use 'simulate' to get the wavefunction\n",
        "\n",
        "print('Wavefunction: ')\n",
        "print(np.around(result.final_state, 3))\n",
        "print('Dirac notation: ')\n",
        "print(result.dirac_notation())"
      ],
      "execution_count": null,
      "outputs": [
        {
          "output_type": "stream",
          "text": [
            "Wavefunction: \n",
            "[0.5+0.j  0. +0.5j 0. +0.5j 0.5+0.j ]\n",
            "Dirac notation: \n",
            "0.5|00⟩ + 0.5j|01⟩ + 0.5j|10⟩ + 0.5|11⟩\n"
          ],
          "name": "stdout"
        }
      ]
    },
    {
      "cell_type": "code",
      "metadata": {
        "colab": {
          "base_uri": "https://localhost:8080/"
        },
        "id": "BJzRixF3ayjr",
        "outputId": "1b7e51ce-8d82-4479-94a3-72d0f1148cec"
      },
      "source": [
        "circuit = cirq.Circuit(basic_circuit())\n",
        "\n",
        "# Specify a number (e.g. 1000) of repetitions\n",
        "nr_repetitions = 1000\n",
        "result = simulator.run(circuit, repetitions=nr_repetitions)\n",
        "\n",
        "# The measurement was on qubit 'a, b'\n",
        "# See definition of basic_circuit at measurement\n",
        "# Therefore, key is 'a, b', if the measurement would have been, e.g. 'b, a' then key='b,a'\n",
        "print(repr(result))\n",
        "# to see internal structure of TrailResult\n",
        "\n",
        "# print the histogram using key='a, b'\n",
        "print(result.histogram(key='a,b'))"
      ],
      "execution_count": null,
      "outputs": [
        {
          "output_type": "stream",
          "text": [
            "cirq.TrialResult(params=cirq.ParamResolver({}), measurements={'a,b': np.array([[1, 1], [1, 1], [0, 0], [0, 0], [0, 1], [0, 1], [1, 0], [0, 0], [1, 0], [0, 1], [1, 1], [1, 1], [1, 1], [1, 1], [1, 0], [1, 1], [0, 1], [0, 0], [0, 1], [0, 1], [1, 1], [1, 1], [0, 1], [1, 0], [1, 0], [1, 1], [0, 0], [0, 0], [1, 0], [1, 1], [0, 1], [1, 0], [1, 0], [1, 0], [0, 0], [0, 0], [1, 0], [0, 1], [0, 1], [0, 1], [0, 0], [0, 1], [0, 1], [0, 0], [1, 1], [1, 0], [1, 0], [1, 0], [1, 1], [1, 1], [1, 0], [1, 0], [0, 1], [0, 0], [0, 1], [0, 1], [0, 0], [0, 1], [0, 1], [0, 1], [1, 0], [0, 1], [1, 0], [1, 0], [0, 1], [1, 0], [1, 1], [0, 1], [1, 1], [1, 1], [0, 1], [0, 1], [1, 1], [0, 1], [0, 1], [0, 1], [0, 0], [1, 1], [0, 1], [1, 0], [1, 0], [1, 1], [0, 1], [1, 1], [1, 1], [1, 0], [0, 0], [1, 0], [0, 0], [1, 0], [1, 1], [1, 0], [1, 0], [1, 0], [1, 1], [1, 1], [1, 1], [1, 0], [1, 0], [1, 0], [0, 1], [1, 1], [1, 0], [1, 1], [1, 0], [0, 0], [1, 1], [0, 1], [1, 0], [0, 0], [1, 0], [0, 0], [0, 0], [0, 0], [0, 1], [0, 1], [1, 0], [0, 1], [1, 1], [1, 1], [1, 1], [0, 0], [1, 1], [0, 0], [1, 1], [1, 1], [0, 0], [1, 0], [0, 1], [0, 0], [0, 0], [1, 1], [0, 1], [0, 1], [0, 0], [1, 1], [1, 0], [0, 1], [0, 0], [0, 0], [1, 1], [0, 0], [0, 1], [0, 0], [0, 0], [0, 0], [0, 1], [0, 1], [1, 0], [0, 1], [1, 1], [1, 0], [0, 0], [0, 1], [0, 0], [1, 0], [1, 1], [1, 0], [0, 1], [1, 0], [0, 1], [0, 1], [1, 1], [1, 1], [0, 0], [0, 1], [0, 0], [0, 1], [1, 0], [1, 0], [1, 0], [0, 1], [1, 1], [0, 1], [1, 1], [1, 1], [1, 1], [1, 1], [0, 1], [0, 0], [0, 0], [0, 1], [0, 1], [0, 1], [1, 0], [1, 1], [1, 0], [0, 1], [0, 1], [1, 0], [0, 0], [0, 1], [0, 0], [1, 0], [0, 1], [0, 1], [1, 1], [1, 1], [0, 0], [1, 1], [1, 0], [1, 1], [0, 0], [0, 1], [1, 1], [1, 0], [0, 0], [1, 1], [0, 0], [0, 0], [1, 0], [1, 0], [0, 1], [0, 1], [0, 0], [1, 0], [0, 1], [1, 1], [0, 0], [0, 1], [0, 0], [0, 1], [0, 0], [0, 0], [0, 0], [0, 1], [1, 0], [0, 1], [0, 1], [1, 1], [0, 0], [0, 0], [0, 0], [0, 0], [0, 1], [0, 1], [1, 0], [1, 0], [0, 0], [0, 1], [0, 0], [0, 0], [0, 0], [1, 1], [1, 0], [0, 0], [1, 1], [0, 0], [1, 1], [0, 1], [1, 0], [0, 0], [0, 1], [1, 0], [0, 1], [1, 1], [0, 1], [1, 1], [0, 0], [1, 1], [1, 0], [1, 1], [1, 0], [1, 0], [0, 0], [0, 0], [1, 1], [0, 0], [1, 0], [0, 1], [0, 1], [1, 0], [0, 0], [0, 1], [0, 0], [1, 1], [1, 1], [0, 0], [0, 1], [1, 1], [0, 0], [1, 0], [0, 1], [1, 1], [1, 1], [1, 1], [1, 0], [1, 0], [1, 1], [1, 0], [1, 1], [0, 0], [0, 1], [1, 1], [1, 1], [1, 0], [0, 1], [0, 0], [1, 1], [1, 0], [0, 0], [1, 0], [1, 1], [0, 1], [0, 0], [1, 0], [1, 1], [1, 1], [0, 0], [1, 0], [1, 1], [1, 0], [1, 0], [1, 1], [1, 0], [1, 0], [1, 0], [1, 0], [0, 1], [1, 1], [1, 0], [0, 0], [0, 1], [0, 1], [1, 0], [1, 0], [1, 0], [1, 1], [0, 0], [0, 0], [0, 0], [1, 0], [1, 1], [0, 1], [1, 1], [0, 1], [0, 1], [0, 0], [1, 1], [1, 0], [1, 0], [1, 0], [0, 0], [0, 0], [1, 0], [0, 0], [1, 1], [1, 1], [1, 0], [0, 1], [1, 1], [0, 0], [0, 0], [0, 1], [0, 1], [1, 0], [1, 1], [1, 0], [0, 0], [1, 0], [0, 0], [1, 0], [1, 0], [0, 0], [1, 1], [0, 0], [1, 1], [1, 1], [1, 1], [1, 1], [1, 0], [1, 1], [0, 1], [0, 0], [1, 0], [0, 1], [0, 0], [0, 1], [0, 0], [1, 0], [1, 1], [0, 0], [1, 0], [1, 1], [1, 1], [0, 1], [0, 1], [1, 1], [0, 1], [0, 0], [0, 0], [1, 1], [0, 0], [0, 0], [0, 1], [1, 0], [0, 0], [1, 1], [0, 1], [1, 0], [0, 1], [1, 0], [1, 0], [1, 1], [1, 1], [1, 1], [0, 0], [1, 1], [0, 1], [0, 0], [1, 0], [1, 1], [0, 1], [1, 0], [0, 1], [1, 0], [0, 0], [1, 1], [0, 1], [0, 0], [0, 1], [0, 0], [0, 1], [1, 0], [0, 1], [1, 0], [1, 1], [0, 1], [0, 1], [1, 1], [1, 1], [1, 1], [0, 1], [0, 0], [0, 1], [0, 0], [0, 1], [1, 1], [0, 1], [0, 1], [1, 0], [0, 1], [1, 1], [1, 1], [1, 0], [1, 0], [1, 1], [1, 0], [1, 1], [0, 1], [1, 0], [0, 1], [0, 1], [0, 0], [1, 0], [0, 1], [0, 0], [0, 0], [1, 1], [0, 1], [0, 0], [1, 1], [0, 0], [1, 1], [1, 0], [0, 0], [0, 1], [1, 1], [1, 1], [0, 1], [1, 1], [1, 1], [1, 0], [1, 0], [0, 0], [1, 0], [1, 1], [1, 1], [1, 0], [0, 1], [0, 1], [1, 0], [0, 1], [0, 1], [1, 0], [0, 0], [1, 1], [0, 0], [1, 0], [1, 1], [0, 1], [0, 0], [1, 1], [0, 1], [0, 0], [0, 1], [0, 1], [0, 0], [1, 1], [0, 1], [1, 1], [0, 1], [0, 0], [1, 0], [0, 1], [0, 1], [1, 0], [0, 1], [0, 0], [1, 1], [1, 0], [1, 1], [0, 1], [0, 0], [0, 1], [1, 1], [1, 0], [1, 0], [0, 1], [0, 0], [1, 1], [0, 0], [1, 0], [0, 1], [0, 1], [1, 0], [0, 0], [0, 0], [0, 0], [0, 1], [0, 1], [0, 1], [0, 0], [1, 0], [1, 0], [0, 0], [1, 0], [1, 0], [1, 0], [1, 1], [1, 1], [0, 0], [1, 0], [1, 0], [1, 1], [0, 1], [0, 0], [1, 0], [0, 0], [0, 0], [1, 0], [0, 1], [1, 0], [1, 0], [0, 1], [0, 1], [0, 1], [1, 1], [0, 0], [1, 0], [1, 1], [0, 1], [0, 1], [0, 0], [1, 1], [1, 1], [0, 1], [0, 1], [1, 0], [0, 1], [0, 0], [1, 1], [1, 1], [1, 1], [1, 0], [1, 1], [1, 1], [0, 0], [0, 0], [1, 1], [0, 0], [1, 0], [1, 1], [0, 1], [0, 0], [1, 0], [1, 0], [1, 0], [1, 0], [0, 1], [0, 1], [0, 1], [1, 1], [1, 0], [0, 1], [0, 1], [0, 0], [1, 1], [1, 1], [1, 0], [1, 1], [0, 1], [1, 0], [1, 0], [1, 0], [0, 1], [1, 0], [0, 1], [0, 0], [1, 1], [0, 1], [0, 1], [1, 1], [1, 1], [0, 0], [1, 0], [0, 1], [0, 0], [1, 0], [0, 1], [0, 0], [1, 0], [0, 0], [1, 1], [0, 0], [0, 0], [0, 1], [0, 1], [0, 0], [1, 0], [1, 0], [1, 0], [1, 1], [0, 1], [1, 1], [0, 0], [0, 0], [0, 0], [1, 1], [1, 1], [1, 0], [0, 1], [1, 0], [0, 1], [0, 1], [0, 1], [0, 1], [1, 1], [0, 0], [0, 0], [0, 0], [0, 1], [0, 0], [0, 1], [0, 0], [1, 1], [1, 1], [1, 1], [1, 1], [0, 1], [1, 0], [1, 1], [1, 1], [1, 0], [0, 1], [0, 1], [1, 0], [1, 0], [1, 1], [1, 0], [0, 1], [1, 0], [0, 0], [0, 0], [1, 1], [0, 0], [1, 0], [1, 0], [0, 1], [1, 1], [0, 0], [0, 0], [1, 1], [0, 1], [0, 0], [1, 0], [0, 0], [1, 1], [0, 0], [1, 0], [0, 1], [1, 1], [1, 1], [1, 1], [0, 1], [0, 1], [0, 1], [1, 0], [1, 1], [1, 1], [0, 1], [0, 1], [0, 0], [1, 1], [0, 0], [0, 0], [0, 0], [1, 1], [1, 1], [1, 1], [0, 0], [0, 1], [0, 1], [1, 0], [1, 0], [0, 1], [0, 1], [0, 1], [0, 1], [1, 0], [0, 0], [1, 0], [0, 0], [0, 0], [1, 1], [0, 1], [1, 0], [1, 1], [0, 1], [1, 0], [0, 0], [0, 1], [0, 1], [1, 1], [1, 1], [0, 0], [0, 0], [0, 1], [1, 1], [1, 0], [0, 0], [0, 1], [0, 1], [0, 1], [0, 0], [0, 1], [1, 1], [0, 1], [0, 0], [1, 0], [0, 1], [1, 0], [1, 1], [0, 1], [0, 0], [1, 0], [0, 0], [1, 0], [0, 0], [1, 1], [0, 1], [1, 1], [0, 1], [0, 1], [1, 1], [0, 1], [1, 0], [0, 1], [1, 0], [0, 0], [1, 1], [0, 0], [0, 0], [0, 1], [1, 1], [0, 1], [0, 0], [1, 0], [1, 1], [0, 0], [1, 1], [0, 1], [1, 1], [1, 1], [1, 0], [0, 0], [1, 0], [1, 0], [0, 1], [1, 0], [0, 0], [1, 1], [1, 1], [0, 1], [0, 1], [1, 0], [1, 0], [0, 0], [1, 0], [1, 1], [1, 0], [0, 0], [0, 0], [1, 0], [0, 1], [0, 0], [1, 0], [0, 1], [0, 1], [0, 0], [1, 0], [0, 1], [0, 1], [1, 0], [1, 1], [1, 1], [1, 1], [0, 0], [1, 1], [0, 0], [0, 0], [0, 0], [0, 1], [1, 1], [1, 1], [0, 1], [0, 0], [0, 0], [0, 1], [0, 1], [0, 1], [0, 0], [1, 1], [0, 0], [0, 1], [1, 1], [0, 0], [1, 0], [1, 1], [0, 1], [0, 1], [0, 1], [1, 0], [0, 0], [1, 1], [0, 0], [0, 0], [0, 0], [0, 1], [1, 0], [1, 0], [0, 1], [0, 1], [0, 1], [0, 1], [1, 1], [1, 0], [1, 1], [1, 0], [1, 0], [1, 0], [1, 1], [1, 0], [1, 0], [1, 1], [1, 1], [1, 0], [0, 0], [1, 1], [0, 1], [1, 0], [1, 1], [1, 0], [1, 1], [1, 0], [1, 0], [0, 0], [0, 1], [0, 1], [1, 1], [0, 1], [1, 1], [0, 0], [0, 1], [1, 0], [1, 0], [0, 0], [0, 0], [0, 0], [1, 0], [0, 0], [0, 1], [0, 1], [1, 0], [0, 1], [1, 1], [1, 0], [0, 0], [0, 1], [0, 0], [1, 1], [0, 0], [1, 0], [1, 1], [1, 1], [1, 0], [1, 1], [1, 0], [1, 0], [1, 1], [1, 1], [1, 1], [1, 0], [1, 0], [0, 0], [0, 0], [0, 0], [1, 1], [1, 1], [0, 1], [1, 1], [1, 1], [0, 1], [1, 0], [1, 1], [0, 1], [0, 1], [1, 0], [1, 0], [0, 1], [1, 0], [1, 1], [1, 0], [1, 1], [0, 0], [1, 1], [0, 0], [0, 1], [0, 0], [0, 1], [0, 0], [1, 1], [1, 1], [1, 1], [0, 0], [0, 1], [1, 0], [0, 0], [0, 1], [0, 0], [1, 1], [1, 0], [0, 1], [0, 1], [0, 1], [0, 0], [0, 0], [1, 0], [0, 0], [0, 0], [1, 0], [1, 0], [1, 0], [1, 1], [1, 0], [0, 1], [0, 0], [1, 0], [1, 1], [0, 0], [0, 0], [0, 1], [1, 0], [0, 1], [1, 0], [0, 1], [0, 1], [1, 0], [0, 1], [1, 0], [1, 0], [0, 0], [0, 1], [1, 1], [0, 1], [1, 1], [1, 0], [1, 1], [1, 0], [0, 1], [1, 0], [0, 1], [1, 1], [1, 1], [1, 0], [1, 0], [0, 0], [0, 1], [0, 1], [0, 1]], dtype=np.uint8)})\n",
            "Counter({1: 271, 2: 248, 3: 247, 0: 234})\n"
          ],
          "name": "stdout"
        }
      ]
    },
    {
      "cell_type": "code",
      "metadata": {
        "colab": {
          "base_uri": "https://localhost:8080/"
        },
        "id": "QhlktW43dBhA",
        "outputId": "309e305c-b162-42b3-ec24-df37f5323ac4"
      },
      "source": [
        "def count_results(e):\n",
        "  if e[0] == e[1]:\n",
        "    return 'agree'\n",
        "  else:\n",
        "    return 'disagree'\n",
        "\n",
        "# The same output like from the previous print statement\n",
        "print(result.histogram(key='a,b', fold_func=count_results))\n"
      ],
      "execution_count": null,
      "outputs": [
        {
          "output_type": "stream",
          "text": [
            "Counter({'disagree': 519, 'agree': 481})\n"
          ],
          "name": "stdout"
        }
      ]
    },
    {
      "cell_type": "markdown",
      "metadata": {
        "id": "i9xqe5wOeJHi"
      },
      "source": [
        "# Parameterized Circuits\n",
        "Cirq also supports parameterized gates with symbolic values via **sympy**."
      ]
    },
    {
      "cell_type": "code",
      "metadata": {
        "id": "VV9plNKldRRy"
      },
      "source": [
        ""
      ],
      "execution_count": null,
      "outputs": []
    }
  ]
}