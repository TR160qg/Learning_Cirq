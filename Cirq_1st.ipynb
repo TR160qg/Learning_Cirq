{
  "nbformat": 4,
  "nbformat_minor": 0,
  "metadata": {
    "colab": {
      "name": "Cirq_1st.ipynb",
      "provenance": [],
      "collapsed_sections": [],
      "authorship_tag": "ABX9TyO3ibDMWhtjqQwz5QFLulI7",
      "include_colab_link": true
    },
    "kernelspec": {
      "name": "python3",
      "display_name": "Python 3"
    },
    "language_info": {
      "name": "python"
    }
  },
  "cells": [
    {
      "cell_type": "markdown",
      "metadata": {
        "id": "view-in-github",
        "colab_type": "text"
      },
      "source": [
        "<a href=\"https://colab.research.google.com/github/TR160qg/Learning_Cirq/blob/main/Cirq_1st.ipynb\" target=\"_parent\"><img src=\"https://colab.research.google.com/assets/colab-badge.svg\" alt=\"Open In Colab\"/></a>"
      ]
    },
    {
      "cell_type": "code",
      "metadata": {
        "colab": {
          "base_uri": "https://localhost:8080/"
        },
        "id": "lfuHuaF-Md6g",
        "outputId": "fb1ce4d8-f43d-40a1-be0a-4993b28c8769"
      },
      "source": [
        "!pip install cirq==0.6 --quiet"
      ],
      "execution_count": 2,
      "outputs": [
        {
          "output_type": "stream",
          "text": [
            "\u001b[K     |████████████████████████████████| 1.2 MB 37.7 MB/s \n",
            "\u001b[K     |████████████████████████████████| 1.7 MB 47.4 MB/s \n",
            "\u001b[K     |████████████████████████████████| 1.2 MB 27.5 MB/s \n",
            "\u001b[K     |████████████████████████████████| 93 kB 1.3 MB/s \n",
            "\u001b[K     |████████████████████████████████| 93 kB 1.4 MB/s \n",
            "\u001b[K     |████████████████████████████████| 93 kB 1.2 MB/s \n",
            "\u001b[K     |████████████████████████████████| 93 kB 1.3 MB/s \n",
            "\u001b[K     |████████████████████████████████| 92 kB 1.2 MB/s \n",
            "\u001b[K     |████████████████████████████████| 93 kB 1.5 MB/s \n",
            "\u001b[K     |████████████████████████████████| 93 kB 1.1 MB/s \n",
            "\u001b[K     |████████████████████████████████| 92 kB 1.2 MB/s \n",
            "\u001b[K     |████████████████████████████████| 92 kB 1.1 MB/s \n",
            "\u001b[K     |████████████████████████████████| 92 kB 239 kB/s \n",
            "\u001b[K     |████████████████████████████████| 92 kB 182 kB/s \n",
            "\u001b[K     |████████████████████████████████| 92 kB 11.5 MB/s \n",
            "\u001b[K     |████████████████████████████████| 91 kB 11.8 MB/s \n",
            "\u001b[K     |████████████████████████████████| 91 kB 10.0 MB/s \n",
            "\u001b[K     |████████████████████████████████| 91 kB 10.3 MB/s \n",
            "\u001b[K     |████████████████████████████████| 91 kB 9.9 MB/s \n",
            "\u001b[K     |████████████████████████████████| 91 kB 10.7 MB/s \n",
            "\u001b[K     |████████████████████████████████| 91 kB 9.7 MB/s \n",
            "\u001b[K     |████████████████████████████████| 91 kB 11.1 MB/s \n",
            "\u001b[K     |████████████████████████████████| 90 kB 10.4 MB/s \n",
            "\u001b[K     |████████████████████████████████| 61 kB 31 kB/s \n",
            "\u001b[K     |████████████████████████████████| 61 kB 23 kB/s \n",
            "\u001b[K     |████████████████████████████████| 61 kB 26 kB/s \n",
            "\u001b[K     |████████████████████████████████| 61 kB 7.8 MB/s \n",
            "\u001b[K     |████████████████████████████████| 61 kB 8.3 MB/s \n",
            "\u001b[K     |████████████████████████████████| 61 kB 8.3 MB/s \n",
            "\u001b[K     |████████████████████████████████| 61 kB 8.8 MB/s \n",
            "\u001b[K     |████████████████████████████████| 61 kB 7.9 MB/s \n",
            "\u001b[K     |████████████████████████████████| 61 kB 7.7 MB/s \n",
            "\u001b[K     |████████████████████████████████| 60 kB 7.7 MB/s \n",
            "\u001b[K     |████████████████████████████████| 90 kB 10.6 MB/s \n",
            "\u001b[K     |████████████████████████████████| 90 kB 10.4 MB/s \n",
            "\u001b[K     |████████████████████████████████| 100 kB 9.4 MB/s \n",
            "\u001b[?25h  Building wheel for networkx (setup.py) ... \u001b[?25l\u001b[?25hdone\n",
            "\u001b[31mERROR: pip's dependency resolver does not currently take into account all the packages that are installed. This behaviour is the source of the following dependency conflicts.\n",
            "tensorflow 2.5.0 requires protobuf>=3.9.2, but you have protobuf 3.8.0 which is incompatible.\n",
            "tensorflow-metadata 1.1.0 requires protobuf<4,>=3.13, but you have protobuf 3.8.0 which is incompatible.\n",
            "earthengine-api 0.1.272 requires google-api-python-client<2,>=1.12.1, but you have google-api-python-client 1.11.0 which is incompatible.\n",
            "albumentations 0.1.12 requires imgaug<0.2.7,>=0.2.5, but you have imgaug 0.2.9 which is incompatible.\u001b[0m\n"
          ],
          "name": "stdout"
        }
      ]
    },
    {
      "cell_type": "code",
      "metadata": {
        "colab": {
          "base_uri": "https://localhost:8080/"
        },
        "id": "EEhNdw0UNA7h",
        "outputId": "b2e24710-4b4c-4c89-be38-f430b4acac43"
      },
      "source": [
        "import cirq \n",
        "import numpy as np\n",
        "import sympy\n",
        "import matplotlib.pyplot as plt\n",
        "\n",
        "print(cirq.google.Bristlecone)"
      ],
      "execution_count": 4,
      "outputs": [
        {
          "output_type": "stream",
          "text": [
            "                                             (0, 5)────(0, 6)\n",
            "                                             │         │\n",
            "                                             │         │\n",
            "                                    (1, 4)───(1, 5)────(1, 6)────(1, 7)\n",
            "                                    │        │         │         │\n",
            "                                    │        │         │         │\n",
            "                           (2, 3)───(2, 4)───(2, 5)────(2, 6)────(2, 7)───(2, 8)\n",
            "                           │        │        │         │         │        │\n",
            "                           │        │        │         │         │        │\n",
            "                  (3, 2)───(3, 3)───(3, 4)───(3, 5)────(3, 6)────(3, 7)───(3, 8)───(3, 9)\n",
            "                  │        │        │        │         │         │        │        │\n",
            "                  │        │        │        │         │         │        │        │\n",
            "         (4, 1)───(4, 2)───(4, 3)───(4, 4)───(4, 5)────(4, 6)────(4, 7)───(4, 8)───(4, 9)───(4, 10)\n",
            "         │        │        │        │        │         │         │        │        │        │\n",
            "         │        │        │        │        │         │         │        │        │        │\n",
            "(5, 0)───(5, 1)───(5, 2)───(5, 3)───(5, 4)───(5, 5)────(5, 6)────(5, 7)───(5, 8)───(5, 9)───(5, 10)───(5, 11)\n",
            "         │        │        │        │        │         │         │        │        │        │\n",
            "         │        │        │        │        │         │         │        │        │        │\n",
            "         (6, 1)───(6, 2)───(6, 3)───(6, 4)───(6, 5)────(6, 6)────(6, 7)───(6, 8)───(6, 9)───(6, 10)\n",
            "                  │        │        │        │         │         │        │        │\n",
            "                  │        │        │        │         │         │        │        │\n",
            "                  (7, 2)───(7, 3)───(7, 4)───(7, 5)────(7, 6)────(7, 7)───(7, 8)───(7, 9)\n",
            "                           │        │        │         │         │        │\n",
            "                           │        │        │         │         │        │\n",
            "                           (8, 3)───(8, 4)───(8, 5)────(8, 6)────(8, 7)───(8, 8)\n",
            "                                    │        │         │         │\n",
            "                                    │        │         │         │\n",
            "                                    (9, 4)───(9, 5)────(9, 6)────(9, 7)\n",
            "                                             │         │\n",
            "                                             │         │\n",
            "                                             (10, 5)───(10, 6)\n"
          ],
          "name": "stdout"
        }
      ]
    },
    {
      "cell_type": "markdown",
      "metadata": {
        "id": "CwBtYGvhPebP"
      },
      "source": [
        "# Creat a circuit"
      ]
    },
    {
      "cell_type": "code",
      "metadata": {
        "colab": {
          "base_uri": "https://localhost:8080/"
        },
        "id": "Rv_izYeZNf1z",
        "outputId": "8195760d-de54-4d74-e110-d255b1a3417a"
      },
      "source": [
        "# here are three qubits\n",
        "a = cirq.NamedQubit('a')\n",
        "b = cirq.NamedQubit('b')\n",
        "c = cirq.NamedQubit('c')\n",
        "\n",
        "#This is a collection of operations\n",
        "#Each operation is a gate\n",
        "ops = [cirq.H(a), cirq.H(b), cirq.CNOT(b,c), cirq.H(b)]\n",
        "\n",
        "#The circuit is constructed from the collection of operations\n",
        "circuit = cirq.Circuit(ops)\n",
        "\n",
        "#let's have a look...\n",
        "print(circuit)"
      ],
      "execution_count": null,
      "outputs": [
        {
          "output_type": "stream",
          "text": [
            "a: ───H───────────\n",
            "\n",
            "b: ───H───@───H───\n",
            "          │\n",
            "c: ───────X───────\n"
          ],
          "name": "stdout"
        }
      ]
    },
    {
      "cell_type": "markdown",
      "metadata": {
        "id": "ZQ0hx918xy_Q"
      },
      "source": [
        "Note for a controlled operation, the notation'@--' is used.\n",
        "\n",
        "There are many different types of qubits in Cirq that are defined in the cirq.Oid class, e.g. 'cirq.LineQubit'--qubits at a location in a 1D-chain, 'cirq.GridQubit'--qubits at a location in a 2D-grid."
      ]
    },
    {
      "cell_type": "code",
      "metadata": {
        "colab": {
          "base_uri": "https://localhost:8080/"
        },
        "id": "Fa_YdJqgPg0C",
        "outputId": "5359e699-571d-4050-f86e-0148f8c7b09c"
      },
      "source": [
        "# Use cirq.unitary to see the matrix correspond to Hadamard gate\n",
        "cirq.unitary(cirq.H)"
      ],
      "execution_count": null,
      "outputs": [
        {
          "output_type": "execute_result",
          "data": {
            "text/plain": [
              "array([[ 0.70710678+0.j,  0.70710678+0.j],\n",
              "       [ 0.70710678+0.j, -0.70710678+0.j]])"
            ]
          },
          "metadata": {
            "tags": []
          },
          "execution_count": 6
        }
      ]
    },
    {
      "cell_type": "markdown",
      "metadata": {
        "id": "Ju9zcSkxzyFA"
      },
      "source": [
        "**Gate** objects have the ability to be applied 'On' to one or more qubits. There are two ways to do this for gates, either e.g. cirq.H.on(a) or cirq.H(a). "
      ]
    },
    {
      "cell_type": "markdown",
      "metadata": {
        "id": "qe4y9P4T0XXo"
      },
      "source": [
        "**Circuit:** from a collection of operations, you can construct a *Circuit* using the class method Circuit(operations):\n",
        "\n",
        "circuit = cirq.Circuit(ops)"
      ]
    },
    {
      "cell_type": "markdown",
      "metadata": {
        "id": "thFJFgY40_uB"
      },
      "source": [
        "**Diagram** Circuits can be printed as text diagrams, it is very helpful but does not get into the interanl details of how the Circuit is represented.\n",
        "\n",
        "A circuit is made up of a sequence of Moment objects. And each Moment object is a list of non-overlapping Operations. \n",
        "To see the internal structire of a circuit, one can iterate over the Moments in the circuit while printing them out."
      ]
    },
    {
      "cell_type": "code",
      "metadata": {
        "colab": {
          "base_uri": "https://localhost:8080/"
        },
        "id": "NhYyO1T8zj3o",
        "outputId": "93f0ff4c-2f0d-4687-842b-4469a32a4435"
      },
      "source": [
        "for i, moment in enumerate(circuit):\n",
        "  print('Moment {}: {}'.format(i, moment))"
      ],
      "execution_count": null,
      "outputs": [
        {
          "output_type": "stream",
          "text": [
            "Moment 0: H(a) and H(b)\n",
            "Moment 1: CNOT(b, c)\n",
            "Moment 2: H(b)\n"
          ],
          "name": "stdout"
        }
      ]
    },
    {
      "cell_type": "markdown",
      "metadata": {
        "id": "Pcfr12Tw3JO6"
      },
      "source": [
        "One can also print the circuits by [repr](https://docs.python.org/3/library/functions.html#repr), which returns a more detailed expression."
      ]
    },
    {
      "cell_type": "code",
      "metadata": {
        "colab": {
          "base_uri": "https://localhost:8080/"
        },
        "id": "_mZysD7I2_T1",
        "outputId": "7ba03aea-7f3a-43bb-8c02-f7910c9b2111"
      },
      "source": [
        "print(repr(circuit))"
      ],
      "execution_count": null,
      "outputs": [
        {
          "output_type": "stream",
          "text": [
            "cirq.Circuit([\n",
            "    cirq.Moment(operations=[\n",
            "        cirq.H.on(cirq.NamedQubit('a')),\n",
            "        cirq.H.on(cirq.NamedQubit('b')),\n",
            "    ]),\n",
            "    cirq.Moment(operations=[\n",
            "        cirq.CNOT.on(cirq.NamedQubit('b'), cirq.NamedQubit('c')),\n",
            "    ]),\n",
            "    cirq.Moment(operations=[\n",
            "        cirq.H.on(cirq.NamedQubit('b')),\n",
            "    ]),\n",
            "])\n"
          ],
          "name": "stdout"
        }
      ]
    },
    {
      "cell_type": "code",
      "metadata": {
        "id": "Mih97fSs3qes"
      },
      "source": [
        ""
      ],
      "execution_count": null,
      "outputs": []
    },
    {
      "cell_type": "markdown",
      "metadata": {
        "id": "QQnrj-fL30Ri"
      },
      "source": [
        "# Building Circuits\n",
        "1. circuit(*ops)\n",
        "2. append\n",
        "3. insert: InsertStrategy"
      ]
    },
    {
      "cell_type": "code",
      "metadata": {
        "colab": {
          "base_uri": "https://localhost:8080/"
        },
        "id": "SdIHupb64DWi",
        "outputId": "ceacecd6-8d69-4df4-dd71-92966058aa73"
      },
      "source": [
        "print(circuit)"
      ],
      "execution_count": null,
      "outputs": [
        {
          "output_type": "stream",
          "text": [
            "a: ───H───────────\n",
            "\n",
            "b: ───H───@───H───\n",
            "          │\n",
            "c: ───────X───────\n"
          ],
          "name": "stdout"
        }
      ]
    },
    {
      "cell_type": "code",
      "metadata": {
        "colab": {
          "base_uri": "https://localhost:8080/"
        },
        "id": "w9rQRfTI4Fil",
        "outputId": "191dae2b-50a1-42a7-dc47-5ae763f471d3"
      },
      "source": [
        "# Create an empty circuit on three qubits 'a', 'b' and 'c'\n",
        "circuit = cirq.Circuit()\n",
        "\n",
        "# Insert a CZ at the first(zero) moment\n",
        "circuit.append([cirq.CZ(a, b)])\n",
        "# The next free moment on qubits a and b is one (1)\n",
        "# On qubit c the next free moment is zero\n",
        "circuit.append([cirq.H(b), cirq.H(b), cirq.H(a), cirq.H(c)])\n",
        "# We can add a T gate inline to the last Hadamard on moment two\n",
        "circuit.append(cirq.T.on(c), strategy=cirq.InsertStrategy.INLINE)\n",
        "\n",
        "print(circuit, '\\n')\n",
        "print(repr(circuit))"
      ],
      "execution_count": null,
      "outputs": [
        {
          "output_type": "stream",
          "text": [
            "a: ───@───H───────\n",
            "      │\n",
            "b: ───@───H───H───\n",
            "\n",
            "c: ───H───────T─── \n",
            "\n",
            "cirq.Circuit([\n",
            "    cirq.Moment(operations=[\n",
            "        cirq.CZ.on(cirq.NamedQubit('a'), cirq.NamedQubit('b')),\n",
            "        cirq.H.on(cirq.NamedQubit('c')),\n",
            "    ]),\n",
            "    cirq.Moment(operations=[\n",
            "        cirq.H.on(cirq.NamedQubit('b')),\n",
            "        cirq.H.on(cirq.NamedQubit('a')),\n",
            "    ]),\n",
            "    cirq.Moment(operations=[\n",
            "        cirq.H.on(cirq.NamedQubit('b')),\n",
            "        cirq.T.on(cirq.NamedQubit('c')),\n",
            "    ]),\n",
            "])\n"
          ],
          "name": "stdout"
        }
      ]
    },
    {
      "cell_type": "markdown",
      "metadata": {
        "id": "yLlHuret6c5G"
      },
      "source": [
        "# Gates\n",
        "\n",
        "Many common gates are implemented in Cirq, including:"
      ]
    },
    {
      "cell_type": "code",
      "metadata": {
        "colab": {
          "base_uri": "https://localhost:8080/"
        },
        "id": "Kw_9x30c6alo",
        "outputId": "dec4cdea-ad68-4bef-8e61-817704178b25"
      },
      "source": [
        "q0, q1, q2 = cirq.LineQubit.range(3)\n",
        "ops = [\n",
        "       cirq.X(q0),\n",
        "       cirq.Y(q1),\n",
        "       cirq.Z(q2),\n",
        "       cirq.CZ(q0, q1),\n",
        "       cirq.CNOT(q1, q2),\n",
        "       cirq.H(q0),\n",
        "       cirq.T(q1),\n",
        "       cirq.S(q2),\n",
        "       cirq.CCZ(q0, q1, q2),\n",
        "       cirq.SWAP(q0, q1),\n",
        "       cirq.CSWAP(q0, q1, q2),\n",
        "       cirq.CCX(q0, q1, q2),\n",
        "       cirq.ISWAP(q0, q1),\n",
        "       cirq.Rx(0.5 * np.pi)(q0),\n",
        "       cirq.Ry(0.5 * np.pi)(q1),\n",
        "       cirq.Rz(0.5 * np.pi)(q2),\n",
        "       #Square root of X\n",
        "       (cirq.X**0.5)(q0),\n",
        "]\n",
        "\n",
        "print(cirq.Circuit(ops))"
      ],
      "execution_count": null,
      "outputs": [
        {
          "output_type": "stream",
          "text": [
            "0: ───X───@───H───────@───×───@───@───iSwap──────Rx(0.5π)───X^0.5───\n",
            "          │           │   │   │   │   │\n",
            "1: ───Y───@───@───T───@───×───×───@───iSwap──────Ry(0.5π)───────────\n",
            "              │       │       │   │\n",
            "2: ───Z───────X───S───@───────×───X───Rz(0.5π)──────────────────────\n"
          ],
          "name": "stdout"
        }
      ]
    },
    {
      "cell_type": "markdown",
      "metadata": {
        "id": "nufoHaxE8nXW"
      },
      "source": [
        "! Matrix representations in the computational basis can be obtained by calling **cirq.unitary** on the gate. For example:"
      ]
    },
    {
      "cell_type": "code",
      "metadata": {
        "colab": {
          "base_uri": "https://localhost:8080/"
        },
        "id": "7E10qddl8ceV",
        "outputId": "440056bc-48a6-43bc-dd79-53016f446560"
      },
      "source": [
        "print(cirq.unitary(cirq.CNOT))"
      ],
      "execution_count": null,
      "outputs": [
        {
          "output_type": "stream",
          "text": [
            "[[1.+0.j 0.+0.j 0.+0.j 0.+0.j]\n",
            " [0.+0.j 1.+0.j 0.+0.j 0.+0.j]\n",
            " [0.+0.j 0.+0.j 0.+0.j 1.+0.j]\n",
            " [0.+0.j 0.+0.j 1.+0.j 0.+0.j]]\n"
          ],
          "name": "stdout"
        }
      ]
    },
    {
      "cell_type": "code",
      "metadata": {
        "colab": {
          "base_uri": "https://localhost:8080/"
        },
        "id": "bgqf9RI086Bk",
        "outputId": "f8467d8f-ae23-4630-d0b4-0cc9464d6e73"
      },
      "source": [
        "print(cirq.unitary(cirq.Rx(0.5*np.pi)))"
      ],
      "execution_count": null,
      "outputs": [
        {
          "output_type": "stream",
          "text": [
            "[[0.70710678+0.j         0.        -0.70710678j]\n",
            " [0.        -0.70710678j 0.70710678+0.j        ]]\n"
          ],
          "name": "stdout"
        }
      ]
    },
    {
      "cell_type": "markdown",
      "metadata": {
        "id": "O3RbV0-m9Let"
      },
      "source": [
        "For the variational algrithms we will need the single qubit rotation gates:\n",
        "1. cirq.Rx($\\theta$)\n",
        "2. cirq.Ry($\\theta$)\n",
        "3. cirq.Rz($\\theta$)"
      ]
    },
    {
      "cell_type": "markdown",
      "metadata": {
        "id": "4S7_5lEE-GCA"
      },
      "source": [
        "# Simulation of a circuit\n",
        "\n",
        "The simulate_moment_steps method allows to simulate the circuit Moment by Moment.\n",
        "\n",
        "At each point, the state can be accessed.\n",
        "\n",
        "Example: create a circuit that is a series of small cirq.Rx rotations and plot te probability of measuring the state in the |0> state. Note the default initial state is |0>."
      ]
    },
    {
      "cell_type": "code",
      "metadata": {
        "colab": {
          "base_uri": "https://localhost:8080/",
          "height": 374
        },
        "id": "ZGep3bfb9FyV",
        "outputId": "21dab103-4e62-4841-d073-aadbcdb61e54"
      },
      "source": [
        "# A single qubit circuit\n",
        "a = cirq.NamedQubit('a')\n",
        "\n",
        "# there are 200 Moments in this circuit. Each is a simulation step.\n",
        "steps = 200\n",
        "small_rotations = [cirq.Rx(np.pi / 50.0)(a) for theta in range(steps)]\n",
        "circuit = cirq.Circuit(small_rotations)\n",
        "\n",
        "print('Circuit is a bunch of small rotations about Pauli X axis:')\n",
        "print('{}\\n'.format(circuit))\n",
        "\n",
        "# store indices of steps on the X axis\n",
        "z = []\n",
        "# store probabilities on the Y axis\n",
        "p0 = []\n",
        "\n",
        "print('We step through the circuit and plot the probability for the |0> states as a function of index of the moment being stepped over.')\n",
        "\n",
        "simulator = cirq.Simulator()\n",
        "for i, step in enumerate(simulator.simulate_moment_steps(circuit)):\n",
        "  # probability is square of amplitude\n",
        "  prob = np.abs(step.state_vector())**2\n",
        "  # save the index\n",
        "  z.append(i)\n",
        "  # save the probability\n",
        "  p0.append(prob[0])\n",
        "\n",
        "# plot a graph\n",
        "plt.style.use('seaborn-whitegrid')\n",
        "plt.plot(z, p0, 'o')\n"
      ],
      "execution_count": null,
      "outputs": [
        {
          "output_type": "stream",
          "text": [
            "Circuit is a bunch of small rotations about Pauli X axis:\n",
            "a: ───Rx(0.02π)───Rx(0.02π)───Rx(0.02π)───Rx(0.02π)───Rx(0.02π)───Rx(0.02π)───Rx(0.02π)───Rx(0.02π)───Rx(0.02π)───Rx(0.02π)───Rx(0.02π)───Rx(0.02π)───Rx(0.02π)───Rx(0.02π)───Rx(0.02π)───Rx(0.02π)───Rx(0.02π)───Rx(0.02π)───Rx(0.02π)───Rx(0.02π)───Rx(0.02π)───Rx(0.02π)───Rx(0.02π)───Rx(0.02π)───Rx(0.02π)───Rx(0.02π)───Rx(0.02π)───Rx(0.02π)───Rx(0.02π)───Rx(0.02π)───Rx(0.02π)───Rx(0.02π)───Rx(0.02π)───Rx(0.02π)───Rx(0.02π)───Rx(0.02π)───Rx(0.02π)───Rx(0.02π)───Rx(0.02π)───Rx(0.02π)───Rx(0.02π)───Rx(0.02π)───Rx(0.02π)───Rx(0.02π)───Rx(0.02π)───Rx(0.02π)───Rx(0.02π)───Rx(0.02π)───Rx(0.02π)───Rx(0.02π)───Rx(0.02π)───Rx(0.02π)───Rx(0.02π)───Rx(0.02π)───Rx(0.02π)───Rx(0.02π)───Rx(0.02π)───Rx(0.02π)───Rx(0.02π)───Rx(0.02π)───Rx(0.02π)───Rx(0.02π)───Rx(0.02π)───Rx(0.02π)───Rx(0.02π)───Rx(0.02π)───Rx(0.02π)───Rx(0.02π)───Rx(0.02π)───Rx(0.02π)───Rx(0.02π)───Rx(0.02π)───Rx(0.02π)───Rx(0.02π)───Rx(0.02π)───Rx(0.02π)───Rx(0.02π)───Rx(0.02π)───Rx(0.02π)───Rx(0.02π)───Rx(0.02π)───Rx(0.02π)───Rx(0.02π)───Rx(0.02π)───Rx(0.02π)───Rx(0.02π)───Rx(0.02π)───Rx(0.02π)───Rx(0.02π)───Rx(0.02π)───Rx(0.02π)───Rx(0.02π)───Rx(0.02π)───Rx(0.02π)───Rx(0.02π)───Rx(0.02π)───Rx(0.02π)───Rx(0.02π)───Rx(0.02π)───Rx(0.02π)───Rx(0.02π)───Rx(0.02π)───Rx(0.02π)───Rx(0.02π)───Rx(0.02π)───Rx(0.02π)───Rx(0.02π)───Rx(0.02π)───Rx(0.02π)───Rx(0.02π)───Rx(0.02π)───Rx(0.02π)───Rx(0.02π)───Rx(0.02π)───Rx(0.02π)───Rx(0.02π)───Rx(0.02π)───Rx(0.02π)───Rx(0.02π)───Rx(0.02π)───Rx(0.02π)───Rx(0.02π)───Rx(0.02π)───Rx(0.02π)───Rx(0.02π)───Rx(0.02π)───Rx(0.02π)───Rx(0.02π)───Rx(0.02π)───Rx(0.02π)───Rx(0.02π)───Rx(0.02π)───Rx(0.02π)───Rx(0.02π)───Rx(0.02π)───Rx(0.02π)───Rx(0.02π)───Rx(0.02π)───Rx(0.02π)───Rx(0.02π)───Rx(0.02π)───Rx(0.02π)───Rx(0.02π)───Rx(0.02π)───Rx(0.02π)───Rx(0.02π)───Rx(0.02π)───Rx(0.02π)───Rx(0.02π)───Rx(0.02π)───Rx(0.02π)───Rx(0.02π)───Rx(0.02π)───Rx(0.02π)───Rx(0.02π)───Rx(0.02π)───Rx(0.02π)───Rx(0.02π)───Rx(0.02π)───Rx(0.02π)───Rx(0.02π)───Rx(0.02π)───Rx(0.02π)───Rx(0.02π)───Rx(0.02π)───Rx(0.02π)───Rx(0.02π)───Rx(0.02π)───Rx(0.02π)───Rx(0.02π)───Rx(0.02π)───Rx(0.02π)───Rx(0.02π)───Rx(0.02π)───Rx(0.02π)───Rx(0.02π)───Rx(0.02π)───Rx(0.02π)───Rx(0.02π)───Rx(0.02π)───Rx(0.02π)───Rx(0.02π)───Rx(0.02π)───Rx(0.02π)───Rx(0.02π)───Rx(0.02π)───Rx(0.02π)───Rx(0.02π)───Rx(0.02π)───Rx(0.02π)───Rx(0.02π)───Rx(0.02π)───Rx(0.02π)───Rx(0.02π)───Rx(0.02π)───Rx(0.02π)───Rx(0.02π)───Rx(0.02π)───Rx(0.02π)───Rx(0.02π)───\n",
            "\n",
            "We step through the circuit and plot the probability for the |0> states as a function of index of the moment being stepped over.\n"
          ],
          "name": "stdout"
        },
        {
          "output_type": "execute_result",
          "data": {
            "text/plain": [
              "[<matplotlib.lines.Line2D at 0x7efe3d68ca50>]"
            ]
          },
          "metadata": {
            "tags": []
          },
          "execution_count": 29
        },
        {
          "output_type": "display_data",
          "data": {
            "image/png": "[encoded data removed]",
            "text/plain": [
              "<Figure size 432x288 with 1 Axes>"
            ]
          },
          "metadata": {
            "tags": []
          }
        }
      ]
    },
    {
      "cell_type": "markdown",
      "metadata": {
        "id": "xtEVNn46EY4Z"
      },
      "source": [
        "Above we have given ourself the direct access to the wave function and calculated the exact probabilities. Suppose we want to sample from the wave function at each point instead."
      ]
    },
    {
      "cell_type": "code",
      "metadata": {
        "colab": {
          "base_uri": "https://localhost:8080/",
          "height": 355
        },
        "id": "G2a8YX_I9aFQ",
        "outputId": "bdca3385-e740-45b9-a275-9304f9b9a81c"
      },
      "source": [
        "# A single qubit circuit\n",
        "a = cirq.NamedQubit('a')\n",
        "\n",
        "# there are 200 Moments in this circuit. Each is a simulation step.\n",
        "steps = 200\n",
        "small_rotations = [cirq.Rx(np.pi / 50.0)(a) for theta in range(steps)]\n",
        "circuit = cirq.Circuit(small_rotations)\n",
        "\n",
        "print('Circuit is a bunch of small rotations about Pauli X axis:')\n",
        "print('{}\\n'.format(circuit))\n",
        "\n",
        "# store indices of steps on the X axis\n",
        "z = []\n",
        "# store probabilities on the Y axis\n",
        "p0 = []\n",
        "\n",
        "# sampling repetitions\n",
        "repetitions = 1000\n",
        "\n",
        "simulator = cirq.Simulator()\n",
        "for i, step in enumerate(simulator.simulate_moment_steps(circuit)):\n",
        "  samples = step.sample([a], repetitions=repetitions)\n",
        "  # 0 is False, 1 is True\n",
        "  prob = np.sum(samples, axis=0)\n",
        "  # 1 - (the sum of 1 divided by repetitions)\n",
        "  prob0 = 1 - (prob[0] / repetitions) \n",
        "\n",
        "  # save the index\n",
        "  z.append(i)\n",
        "  # save the probability\n",
        "  p0.append(prob0)\n",
        "\n",
        "# plot a graph\n",
        "plt.style.use('seaborn-whitegrid')\n",
        "plt.plot(z, p0, 'o')"
      ],
      "execution_count": null,
      "outputs": [
        {
          "output_type": "stream",
          "text": [
            "Circuit is a bunch of small rotations about Pauli X axis:\n",
            "a: ───Rx(0.02π)───Rx(0.02π)───Rx(0.02π)───Rx(0.02π)───Rx(0.02π)───Rx(0.02π)───Rx(0.02π)───Rx(0.02π)───Rx(0.02π)───Rx(0.02π)───Rx(0.02π)───Rx(0.02π)───Rx(0.02π)───Rx(0.02π)───Rx(0.02π)───Rx(0.02π)───Rx(0.02π)───Rx(0.02π)───Rx(0.02π)───Rx(0.02π)───Rx(0.02π)───Rx(0.02π)───Rx(0.02π)───Rx(0.02π)───Rx(0.02π)───Rx(0.02π)───Rx(0.02π)───Rx(0.02π)───Rx(0.02π)───Rx(0.02π)───Rx(0.02π)───Rx(0.02π)───Rx(0.02π)───Rx(0.02π)───Rx(0.02π)───Rx(0.02π)───Rx(0.02π)───Rx(0.02π)───Rx(0.02π)───Rx(0.02π)───Rx(0.02π)───Rx(0.02π)───Rx(0.02π)───Rx(0.02π)───Rx(0.02π)───Rx(0.02π)───Rx(0.02π)───Rx(0.02π)───Rx(0.02π)───Rx(0.02π)───Rx(0.02π)───Rx(0.02π)───Rx(0.02π)───Rx(0.02π)───Rx(0.02π)───Rx(0.02π)───Rx(0.02π)───Rx(0.02π)───Rx(0.02π)───Rx(0.02π)───Rx(0.02π)───Rx(0.02π)───Rx(0.02π)───Rx(0.02π)───Rx(0.02π)───Rx(0.02π)───Rx(0.02π)───Rx(0.02π)───Rx(0.02π)───Rx(0.02π)───Rx(0.02π)───Rx(0.02π)───Rx(0.02π)───Rx(0.02π)───Rx(0.02π)───Rx(0.02π)───Rx(0.02π)───Rx(0.02π)───Rx(0.02π)───Rx(0.02π)───Rx(0.02π)───Rx(0.02π)───Rx(0.02π)───Rx(0.02π)───Rx(0.02π)───Rx(0.02π)───Rx(0.02π)───Rx(0.02π)───Rx(0.02π)───Rx(0.02π)───Rx(0.02π)───Rx(0.02π)───Rx(0.02π)───Rx(0.02π)───Rx(0.02π)───Rx(0.02π)───Rx(0.02π)───Rx(0.02π)───Rx(0.02π)───Rx(0.02π)───Rx(0.02π)───Rx(0.02π)───Rx(0.02π)───Rx(0.02π)───Rx(0.02π)───Rx(0.02π)───Rx(0.02π)───Rx(0.02π)───Rx(0.02π)───Rx(0.02π)───Rx(0.02π)───Rx(0.02π)───Rx(0.02π)───Rx(0.02π)───Rx(0.02π)───Rx(0.02π)───Rx(0.02π)───Rx(0.02π)───Rx(0.02π)───Rx(0.02π)───Rx(0.02π)───Rx(0.02π)───Rx(0.02π)───Rx(0.02π)───Rx(0.02π)───Rx(0.02π)───Rx(0.02π)───Rx(0.02π)───Rx(0.02π)───Rx(0.02π)───Rx(0.02π)───Rx(0.02π)───Rx(0.02π)───Rx(0.02π)───Rx(0.02π)───Rx(0.02π)───Rx(0.02π)───Rx(0.02π)───Rx(0.02π)───Rx(0.02π)───Rx(0.02π)───Rx(0.02π)───Rx(0.02π)───Rx(0.02π)───Rx(0.02π)───Rx(0.02π)───Rx(0.02π)───Rx(0.02π)───Rx(0.02π)───Rx(0.02π)───Rx(0.02π)───Rx(0.02π)───Rx(0.02π)───Rx(0.02π)───Rx(0.02π)───Rx(0.02π)───Rx(0.02π)───Rx(0.02π)───Rx(0.02π)───Rx(0.02π)───Rx(0.02π)───Rx(0.02π)───Rx(0.02π)───Rx(0.02π)───Rx(0.02π)───Rx(0.02π)───Rx(0.02π)───Rx(0.02π)───Rx(0.02π)───Rx(0.02π)───Rx(0.02π)───Rx(0.02π)───Rx(0.02π)───Rx(0.02π)───Rx(0.02π)───Rx(0.02π)───Rx(0.02π)───Rx(0.02π)───Rx(0.02π)───Rx(0.02π)───Rx(0.02π)───Rx(0.02π)───Rx(0.02π)───Rx(0.02π)───Rx(0.02π)───Rx(0.02π)───Rx(0.02π)───Rx(0.02π)───Rx(0.02π)───Rx(0.02π)───Rx(0.02π)───Rx(0.02π)───Rx(0.02π)───Rx(0.02π)───Rx(0.02π)───Rx(0.02π)───Rx(0.02π)───Rx(0.02π)───Rx(0.02π)───Rx(0.02π)───\n",
            "\n"
          ],
          "name": "stdout"
        },
        {
          "output_type": "execute_result",
          "data": {
            "text/plain": [
              "[<matplotlib.lines.Line2D at 0x7efe3cc47e50>]"
            ]
          },
          "metadata": {
            "tags": []
          },
          "execution_count": 32
        },
        {
          "output_type": "display_data",
          "data": {
            "image/png": "[encoded data removed]",
            "text/plain": [
              "<Figure size 432x288 with 1 Axes>"
            ]
          },
          "metadata": {
            "tags": []
          }
        }
      ]
    },
    {
      "cell_type": "markdown",
      "metadata": {
        "id": "pUI4srA_HEot"
      },
      "source": [
        "# Gate decompositions\n",
        "Often the set of gates that one can apply is limited, either by the phyiscal hardware or perhaps by the quantum error correcting code one works with.\n",
        "\n",
        "Cirq support gate decomposition via the **decompose** protocol"
      ]
    },
    {
      "cell_type": "code",
      "metadata": {
        "colab": {
          "base_uri": "https://localhost:8080/"
        },
        "id": "GZ2pxn4BGg8r",
        "outputId": "c9e8d0e1-8b1f-4e5b-cf05-184f63fc865e"
      },
      "source": [
        "class HXGate(cirq.SingleQubitGate):\n",
        "  def _decompose_(self, qubits):\n",
        "    return cirq.H(*qubits), cirq.X(*qubits)\n",
        "\n",
        "  def _str_(self):\n",
        "    return '*HX*'\n",
        "\n",
        "HX = HXGate()\n",
        "\n",
        "a = cirq.NamedQubit('a')\n",
        "circuit = cirq.Circuit([HX(a)])\n",
        "print('before decomposition: ')\n",
        "print(circuit)\n",
        "print(cirq.unitary(circuit))\n",
        "\n",
        "print()\n",
        "\n",
        "print('after decomposition: ')\n",
        "print(cirq.Circuit(cirq.decompose(circuit)))\n",
        "print(cirq.unitary(cirq.Y**0.5))"
      ],
      "execution_count": null,
      "outputs": [
        {
          "output_type": "stream",
          "text": [
            "before decomposition: \n",
            "a: ───<__main__.HXGate object at 0x7efe3cbad210>───\n",
            "[[ 0.70710678+0.j -0.70710678+0.j]\n",
            " [ 0.70710678+0.j  0.70710678+0.j]]\n",
            "\n",
            "after decomposition: \n",
            "a: ───Y^0.5───X───X───\n",
            "[[ 0.5+0.5j -0.5-0.5j]\n",
            " [ 0.5+0.5j  0.5+0.5j]]\n"
          ],
          "name": "stdout"
        }
      ]
    },
    {
      "cell_type": "markdown",
      "metadata": {
        "id": "ee3YH1cmKQeW"
      },
      "source": [
        "The decomposition indicates that the HX gate is equivalent to the Y^0.5 gate, although the matrices differ.\n",
        "Equivalent gates need to map any input state to output states that can only differ by a global phase, since\n",
        "\n",
        "<x|$e^{i \\phi}$O$e^{-i \\phi}$|x> = <x|o|x> for any |x> and any observable O.\n",
        "This can be tested via"
      ]
    },
    {
      "cell_type": "code",
      "metadata": {
        "colab": {
          "base_uri": "https://localhost:8080/"
        },
        "id": "ezLH9gkXKPiY",
        "outputId": "79a7b58f-6eec-4336-c6db-4f41a0e9f357"
      },
      "source": [
        "print(cirq.testing.assert_allclose_up_to_global_phase(cirq.unitary(cirq.Y**0.5), cirq.unitary(circuit), atol=1e-10))"
      ],
      "execution_count": null,
      "outputs": [
        {
          "output_type": "stream",
          "text": [
            "None\n"
          ],
          "name": "stdout"
        }
      ]
    },
    {
      "cell_type": "markdown",
      "metadata": {
        "id": "1Xx9IF_wPBH9"
      },
      "source": [
        "Note that upper code not only decomposed the HX gate into H and X but also decomposed H into Y**0.5 and X. In order to decompose only once, one can use cirq.decompose_once:"
      ]
    },
    {
      "cell_type": "code",
      "metadata": {
        "colab": {
          "base_uri": "https://localhost:8080/"
        },
        "id": "ZlBCcht4Nnaf",
        "outputId": "c401a3ee-7379-45ee-b422-f1db24af3998"
      },
      "source": [
        "print(cirq.Circuit(cirq.decompose_once(HX(a))))"
      ],
      "execution_count": null,
      "outputs": [
        {
          "output_type": "stream",
          "text": [
            "a: ───H───X───\n"
          ],
          "name": "stdout"
        }
      ]
    },
    {
      "cell_type": "markdown",
      "metadata": {
        "id": "s6qQXmPnQ3d2"
      },
      "source": [
        "To change this decomposition at run time for the specific hardware or context, define an interceptor function which does aspecific decomposition before falling back to the default."
      ]
    },
    {
      "cell_type": "code",
      "metadata": {
        "colab": {
          "base_uri": "https://localhost:8080/",
          "height": 34
        },
        "id": "skjJgK5lPZBs",
        "outputId": "2b9c4220-93cd-4c6d-b0f0-16c71a8e2049"
      },
      "source": [
        "def my_decompose(op):\n",
        "  if isinstance(op, cirq.GateOperation) and isinstance(op.gate, HXGate):\n",
        "    return cirq.Z(*op.qubits), cirq.H(*op.qubits)\n",
        "\n",
        "cirq.Circuit(cirq.decompose(HX(a), intercepting_decomposer=my_decompose))"
      ],
      "execution_count": null,
      "outputs": [
        {
          "output_type": "execute_result",
          "data": {
            "text/html": [
              "<pre style=\"overflow: auto; white-space: pre;\">a: ───Z───Y^0.5───X───</pre>"
            ],
            "text/plain": [
              "a: ───Z───Y^0.5───X───"
            ]
          },
          "metadata": {
            "tags": []
          },
          "execution_count": 36
        }
      ]
    },
    {
      "cell_type": "markdown",
      "metadata": {
        "id": "8jZYlomLRPrY"
      },
      "source": [
        "Can also define a predicate the says which gates to keep without further decomposition (default predicate is to only keep gates that cannot be decomposed)."
      ]
    },
    {
      "cell_type": "code",
      "metadata": {
        "colab": {
          "base_uri": "https://localhost:8080/"
        },
        "id": "Mn-Q3dOSQrJu",
        "outputId": "bf462f12-4196-4ca1-a110-cab3a14f9f4a"
      },
      "source": [
        "def keep_h_and_x(op):\n",
        "  return isinstance(op, cirq.GateOperation) and op.gate in [cirq.H, cirq.X]\n",
        "\n",
        "print(cirq.decompose(HX(a), keep=keep_h_and_x))"
      ],
      "execution_count": null,
      "outputs": [
        {
          "output_type": "stream",
          "text": [
            "[cirq.H.on(cirq.NamedQubit('a')), cirq.X.on(cirq.NamedQubit('a'))]\n"
          ],
          "name": "stdout"
        }
      ]
    },
    {
      "cell_type": "markdown",
      "metadata": {
        "id": "p-vMtaD9Se5e"
      },
      "source": [
        "# Simulation of a circuit\n",
        "\n",
        "Now try to use Cirq to simulate the circuit"
      ]
    },
    {
      "cell_type": "code",
      "metadata": {
        "colab": {
          "base_uri": "https://localhost:8080/"
        },
        "id": "5mEfqFAlSJYn",
        "outputId": "82d41ade-3833-43a2-dbfa-f008bf730940"
      },
      "source": [
        "# This circuit is written like a generator\n",
        "# Gate are not added to a collection, but returned iteratively using keyword 'yeild'\n",
        "# compare to the meathod before using 'yeild' allow us to generate operation in-time\n",
        "# which can save a lot of RAM\n",
        "\n",
        "def basic_circuit(measure=True):\n",
        "  # The square root of the Pauli X gate\n",
        "  sqrt_x = cirq.X**0.5\n",
        "  # The CZ gate\n",
        "  cz = cirq.CZ\n",
        "\n",
        "  yield sqrt_x(a), sqrt_x(b)\n",
        "  yield cz(a, b)\n",
        "  yield sqrt_x(a), sqrt_x(b)\n",
        "\n",
        "  if measure:\n",
        "    yield cirq.measure(a, b)\n",
        "    #yield cirq.measure(b, a)\n",
        "\n",
        "circuit = cirq.Circuit(basic_circuit())\n",
        "print(circuit) "
      ],
      "execution_count": null,
      "outputs": [
        {
          "output_type": "stream",
          "text": [
            "a: ───X^0.5───@───X^0.5───M───\n",
            "              │           │\n",
            "b: ───X^0.5───@───X^0.5───M───\n"
          ],
          "name": "stdout"
        }
      ]
    },
    {
      "cell_type": "markdown",
      "metadata": {
        "id": "X5FBR9RbWeqI"
      },
      "source": [
        "Python functions that have a **yield** are **generators**. **Generators** are functions that act as iterators, but are much more compact to code."
      ]
    },
    {
      "cell_type": "code",
      "metadata": {
        "colab": {
          "base_uri": "https://localhost:8080/"
        },
        "id": "wieVQF1VVPE-",
        "outputId": "f359c61c-f440-46eb-b7c9-433a5c10c00d"
      },
      "source": [
        "for x in basic_circuit():\n",
        "  print(x)"
      ],
      "execution_count": null,
      "outputs": [
        {
          "output_type": "stream",
          "text": [
            "((cirq.X**0.5).on(cirq.NamedQubit('a')), (cirq.X**0.5).on(cirq.NamedQubit('b')))\n",
            "CZ(a, b)\n",
            "((cirq.X**0.5).on(cirq.NamedQubit('a')), (cirq.X**0.5).on(cirq.NamedQubit('b')))\n",
            "cirq.MeasurementGate(2, 'a,b', ())(a, b)\n"
          ],
          "name": "stdout"
        }
      ]
    },
    {
      "cell_type": "markdown",
      "metadata": {
        "id": "qdbACu0uXL4o"
      },
      "source": [
        "Each **yields** produces what was yield, here Operations, or list of Operations.\n",
        "\n",
        "For large circuits, using generators is much more memory efficient than storing the whole circuit.\n",
        "\n",
        "When you pass this iterator to the append method, the **Circuit** command will flatten all of these and pass them as one giant list to Circuit.append (also works for Circuit.insert).\n",
        "\n",
        "Thus can define generator for sub-circuits, whcih can vary by size or **Operation** parameters."
      ]
    },
    {
      "cell_type": "code",
      "metadata": {
        "colab": {
          "base_uri": "https://localhost:8080/"
        },
        "id": "HGDxOmKmYr8v",
        "outputId": "0f282fd3-ad34-424e-a738-cc12e79fbb9e"
      },
      "source": [
        "simulator = cirq.Simulator()\n",
        "circuit = cirq.Circuit(basic_circuit())\n",
        "\n",
        "# First option: sample from the circuit\n",
        "result = simulator.run(circuit)\n",
        "\n",
        "print('Measurement results')\n",
        "print(result)"
      ],
      "execution_count": null,
      "outputs": [
        {
          "output_type": "stream",
          "text": [
            "Measurement results\n",
            "a,b=0, 0\n"
          ],
          "name": "stdout"
        }
      ]
    },
    {
      "cell_type": "markdown",
      "metadata": {
        "id": "7Ycok28JZQbZ"
      },
      "source": [
        "Running this multiple times should result in different measurement results, since the above circuit produces a superposition over all computational basis states.\n",
        "\n",
        "The **run** method on the simulator mimics the actual hardware. It deosn't give access to full wavefunction."
      ]
    },
    {
      "cell_type": "code",
      "metadata": {
        "colab": {
          "base_uri": "https://localhost:8080/"
        },
        "id": "YRL1QnBvW2sa",
        "outputId": "e4da8c93-8b63-4bb9-9a7e-a3e458fa5512"
      },
      "source": [
        "circuit = cirq.Circuit()\n",
        "circuit.append(basic_circuit(measure=False))\n",
        "\n",
        "# Second option: get the wavefunction\n",
        "result = simulator.simulate(circuit, qubit_order=[a, b]) # use 'simulate' to get the wavefunction\n",
        "\n",
        "print('Wavefunction: ')\n",
        "print(np.around(result.final_state, 3))\n",
        "print('Dirac notation: ')\n",
        "print(result.dirac_notation())"
      ],
      "execution_count": null,
      "outputs": [
        {
          "output_type": "stream",
          "text": [
            "Wavefunction: \n",
            "[0.5+0.j  0. +0.5j 0. +0.5j 0.5+0.j ]\n",
            "Dirac notation: \n",
            "0.5|00⟩ + 0.5j|01⟩ + 0.5j|10⟩ + 0.5|11⟩\n"
          ],
          "name": "stdout"
        }
      ]
    },
    {
      "cell_type": "code",
      "metadata": {
        "colab": {
          "base_uri": "https://localhost:8080/"
        },
        "id": "BJzRixF3ayjr",
        "outputId": "1b7e51ce-8d82-4479-94a3-72d0f1148cec"
      },
      "source": [
        "circuit = cirq.Circuit(basic_circuit())\n",
        "\n",
        "# Specify a number (e.g. 1000) of repetitions\n",
        "nr_repetitions = 1000\n",
        "result = simulator.run(circuit, repetitions=nr_repetitions)\n",
        "\n",
        "# The measurement was on qubit 'a, b'\n",
        "# See definition of basic_circuit at measurement\n",
        "# Therefore, key is 'a, b', if the measurement would have been, e.g. 'b, a' then key='b,a'\n",
        "print(repr(result))\n",
        "# to see internal structure of TrailResult\n",
        "\n",
        "# print the histogram using key='a, b'\n",
        "print(result.histogram(key='a,b'))"
      ],
      "execution_count": null,
      "outputs": [
        {
          "output_type": "stream",
          "text": [
            "cirq.TrialResult(params=cirq.ParamResolver({}), measurements={'a,b': np.array([[1, 1], [1, 1], [0, 0], [0, 0], [0, 1], [0, 1], [1, 0], [0, 0], [1, 0], [0, 1], [1, 1], [1, 1], [1, 1], [1, 1], [1, 0], [1, 1], [0, 1], [0, 0], [0, 1], [0, 1], [1, 1], [1, 1], [0, 1], [1, 0], [1, 0], [1, 1], [0, 0], [0, 0], [1, 0], [1, 1], [0, 1], [1, 0], [1, 0], [1, 0], [0, 0], [0, 0], [1, 0], [0, 1], [0, 1], [0, 1], [0, 0], [0, 1], [0, 1], [0, 0], [1, 1], [1, 0], [1, 0], [1, 0], [1, 1], [1, 1], [1, 0], [1, 0], [0, 1], [0, 0], [0, 1], [0, 1], [0, 0], [0, 1], [0, 1], [0, 1], [1, 0], [0, 1], [1, 0], [1, 0], [0, 1], [1, 0], [1, 1], [0, 1], [1, 1], [1, 1], [0, 1], [0, 1], [1, 1], [0, 1], [0, 1], [0, 1], [0, 0], [1, 1], [0, 1], [1, 0], [1, 0], [1, 1], [0, 1], [1, 1], [1, 1], [1, 0], [0, 0], [1, 0], [0, 0], [1, 0], [1, 1], [1, 0], [1, 0], [1, 0], [1, 1], [1, 1], [1, 1], [1, 0], [1, 0], [1, 0], [0, 1], [1, 1], [1, 0], [1, 1], [1, 0], [0, 0], [1, 1], [0, 1], [1, 0], [0, 0], [1, 0], [0, 0], [0, 0], [0, 0], [0, 1], [0, 1], [1, 0], [0, 1], [1, 1], [1, 1], [1, 1], [0, 0], [1, 1], [0, 0], [1, 1], [1, 1], [0, 0], [1, 0], [0, 1], [0, 0], [0, 0], [1, 1], [0, 1], [0, 1], [0, 0], [1, 1], [1, 0], [0, 1], [0, 0], [0, 0], [1, 1], [0, 0], [0, 1], [0, 0], [0, 0], [0, 0], [0, 1], [0, 1], [1, 0], [0, 1], [1, 1], [1, 0], [0, 0], [0, 1], [0, 0], [1, 0], [1, 1], [1, 0], [0, 1], [1, 0], [0, 1], [0, 1], [1, 1], [1, 1], [0, 0], [0, 1], [0, 0], [0, 1], [1, 0], [1, 0], [1, 0], [0, 1], [1, 1], [0, 1], [1, 1], [1, 1], [1, 1], [1, 1], [0, 1], [0, 0], [0, 0], [0, 1], [0, 1], [0, 1], [1, 0], [1, 1], [1, 0], [0, 1], [0, 1], [1, 0], [0, 0], [0, 1], [0, 0], [1, 0], [0, 1], [0, 1], [1, 1], [1, 1], [0, 0], [1, 1], [1, 0], [1, 1], [0, 0], [0, 1], [1, 1], [1, 0], [0, 0], [1, 1], [0, 0], [0, 0], [1, 0], [1, 0], [0, 1], [0, 1], [0, 0], [1, 0], [0, 1], [1, 1], [0, 0], [0, 1], [0, 0], [0, 1], [0, 0], [0, 0], [0, 0], [0, 1], [1, 0], [0, 1], [0, 1], [1, 1], [0, 0], [0, 0], [0, 0], [0, 0], [0, 1], [0, 1], [1, 0], [1, 0], [0, 0], [0, 1], [0, 0], [0, 0], [0, 0], [1, 1], [1, 0], [0, 0], [1, 1], [0, 0], [1, 1], [0, 1], [1, 0], [0, 0], [0, 1], [1, 0], [0, 1], [1, 1], [0, 1], [1, 1], [0, 0], [1, 1], [1, 0], [1, 1], [1, 0], [1, 0], [0, 0], [0, 0], [1, 1], [0, 0], [1, 0], [0, 1], [0, 1], [1, 0], [0, 0], [0, 1], [0, 0], [1, 1], [1, 1], [0, 0], [0, 1], [1, 1], [0, 0], [1, 0], [0, 1], [1, 1], [1, 1], [1, 1], [1, 0], [1, 0], [1, 1], [1, 0], [1, 1], [0, 0], [0, 1], [1, 1], [1, 1], [1, 0], [0, 1], [0, 0], [1, 1], [1, 0], [0, 0], [1, 0], [1, 1], [0, 1], [0, 0], [1, 0], [1, 1], [1, 1], [0, 0], [1, 0], [1, 1], [1, 0], [1, 0], [1, 1], [1, 0], [1, 0], [1, 0], [1, 0], [0, 1], [1, 1], [1, 0], [0, 0], [0, 1], [0, 1], [1, 0], [1, 0], [1, 0], [1, 1], [0, 0], [0, 0], [0, 0], [1, 0], [1, 1], [0, 1], [1, 1], [0, 1], [0, 1], [0, 0], [1, 1], [1, 0], [1, 0], [1, 0], [0, 0], [0, 0], [1, 0], [0, 0], [1, 1], [1, 1], [1, 0], [0, 1], [1, 1], [0, 0], [0, 0], [0, 1], [0, 1], [1, 0], [1, 1], [1, 0], [0, 0], [1, 0], [0, 0], [1, 0], [1, 0], [0, 0], [1, 1], [0, 0], [1, 1], [1, 1], [1, 1], [1, 1], [1, 0], [1, 1], [0, 1], [0, 0], [1, 0], [0, 1], [0, 0], [0, 1], [0, 0], [1, 0], [1, 1], [0, 0], [1, 0], [1, 1], [1, 1], [0, 1], [0, 1], [1, 1], [0, 1], [0, 0], [0, 0], [1, 1], [0, 0], [0, 0], [0, 1], [1, 0], [0, 0], [1, 1], [0, 1], [1, 0], [0, 1], [1, 0], [1, 0], [1, 1], [1, 1], [1, 1], [0, 0], [1, 1], [0, 1], [0, 0], [1, 0], [1, 1], [0, 1], [1, 0], [0, 1], [1, 0], [0, 0], [1, 1], [0, 1], [0, 0], [0, 1], [0, 0], [0, 1], [1, 0], [0, 1], [1, 0], [1, 1], [0, 1], [0, 1], [1, 1], [1, 1], [1, 1], [0, 1], [0, 0], [0, 1], [0, 0], [0, 1], [1, 1], [0, 1], [0, 1], [1, 0], [0, 1], [1, 1], [1, 1], [1, 0], [1, 0], [1, 1], [1, 0], [1, 1], [0, 1], [1, 0], [0, 1], [0, 1], [0, 0], [1, 0], [0, 1], [0, 0], [0, 0], [1, 1], [0, 1], [0, 0], [1, 1], [0, 0], [1, 1], [1, 0], [0, 0], [0, 1], [1, 1], [1, 1], [0, 1], [1, 1], [1, 1], [1, 0], [1, 0], [0, 0], [1, 0], [1, 1], [1, 1], [1, 0], [0, 1], [0, 1], [1, 0], [0, 1], [0, 1], [1, 0], [0, 0], [1, 1], [0, 0], [1, 0], [1, 1], [0, 1], [0, 0], [1, 1], [0, 1], [0, 0], [0, 1], [0, 1], [0, 0], [1, 1], [0, 1], [1, 1], [0, 1], [0, 0], [1, 0], [0, 1], [0, 1], [1, 0], [0, 1], [0, 0], [1, 1], [1, 0], [1, 1], [0, 1], [0, 0], [0, 1], [1, 1], [1, 0], [1, 0], [0, 1], [0, 0], [1, 1], [0, 0], [1, 0], [0, 1], [0, 1], [1, 0], [0, 0], [0, 0], [0, 0], [0, 1], [0, 1], [0, 1], [0, 0], [1, 0], [1, 0], [0, 0], [1, 0], [1, 0], [1, 0], [1, 1], [1, 1], [0, 0], [1, 0], [1, 0], [1, 1], [0, 1], [0, 0], [1, 0], [0, 0], [0, 0], [1, 0], [0, 1], [1, 0], [1, 0], [0, 1], [0, 1], [0, 1], [1, 1], [0, 0], [1, 0], [1, 1], [0, 1], [0, 1], [0, 0], [1, 1], [1, 1], [0, 1], [0, 1], [1, 0], [0, 1], [0, 0], [1, 1], [1, 1], [1, 1], [1, 0], [1, 1], [1, 1], [0, 0], [0, 0], [1, 1], [0, 0], [1, 0], [1, 1], [0, 1], [0, 0], [1, 0], [1, 0], [1, 0], [1, 0], [0, 1], [0, 1], [0, 1], [1, 1], [1, 0], [0, 1], [0, 1], [0, 0], [1, 1], [1, 1], [1, 0], [1, 1], [0, 1], [1, 0], [1, 0], [1, 0], [0, 1], [1, 0], [0, 1], [0, 0], [1, 1], [0, 1], [0, 1], [1, 1], [1, 1], [0, 0], [1, 0], [0, 1], [0, 0], [1, 0], [0, 1], [0, 0], [1, 0], [0, 0], [1, 1], [0, 0], [0, 0], [0, 1], [0, 1], [0, 0], [1, 0], [1, 0], [1, 0], [1, 1], [0, 1], [1, 1], [0, 0], [0, 0], [0, 0], [1, 1], [1, 1], [1, 0], [0, 1], [1, 0], [0, 1], [0, 1], [0, 1], [0, 1], [1, 1], [0, 0], [0, 0], [0, 0], [0, 1], [0, 0], [0, 1], [0, 0], [1, 1], [1, 1], [1, 1], [1, 1], [0, 1], [1, 0], [1, 1], [1, 1], [1, 0], [0, 1], [0, 1], [1, 0], [1, 0], [1, 1], [1, 0], [0, 1], [1, 0], [0, 0], [0, 0], [1, 1], [0, 0], [1, 0], [1, 0], [0, 1], [1, 1], [0, 0], [0, 0], [1, 1], [0, 1], [0, 0], [1, 0], [0, 0], [1, 1], [0, 0], [1, 0], [0, 1], [1, 1], [1, 1], [1, 1], [0, 1], [0, 1], [0, 1], [1, 0], [1, 1], [1, 1], [0, 1], [0, 1], [0, 0], [1, 1], [0, 0], [0, 0], [0, 0], [1, 1], [1, 1], [1, 1], [0, 0], [0, 1], [0, 1], [1, 0], [1, 0], [0, 1], [0, 1], [0, 1], [0, 1], [1, 0], [0, 0], [1, 0], [0, 0], [0, 0], [1, 1], [0, 1], [1, 0], [1, 1], [0, 1], [1, 0], [0, 0], [0, 1], [0, 1], [1, 1], [1, 1], [0, 0], [0, 0], [0, 1], [1, 1], [1, 0], [0, 0], [0, 1], [0, 1], [0, 1], [0, 0], [0, 1], [1, 1], [0, 1], [0, 0], [1, 0], [0, 1], [1, 0], [1, 1], [0, 1], [0, 0], [1, 0], [0, 0], [1, 0], [0, 0], [1, 1], [0, 1], [1, 1], [0, 1], [0, 1], [1, 1], [0, 1], [1, 0], [0, 1], [1, 0], [0, 0], [1, 1], [0, 0], [0, 0], [0, 1], [1, 1], [0, 1], [0, 0], [1, 0], [1, 1], [0, 0], [1, 1], [0, 1], [1, 1], [1, 1], [1, 0], [0, 0], [1, 0], [1, 0], [0, 1], [1, 0], [0, 0], [1, 1], [1, 1], [0, 1], [0, 1], [1, 0], [1, 0], [0, 0], [1, 0], [1, 1], [1, 0], [0, 0], [0, 0], [1, 0], [0, 1], [0, 0], [1, 0], [0, 1], [0, 1], [0, 0], [1, 0], [0, 1], [0, 1], [1, 0], [1, 1], [1, 1], [1, 1], [0, 0], [1, 1], [0, 0], [0, 0], [0, 0], [0, 1], [1, 1], [1, 1], [0, 1], [0, 0], [0, 0], [0, 1], [0, 1], [0, 1], [0, 0], [1, 1], [0, 0], [0, 1], [1, 1], [0, 0], [1, 0], [1, 1], [0, 1], [0, 1], [0, 1], [1, 0], [0, 0], [1, 1], [0, 0], [0, 0], [0, 0], [0, 1], [1, 0], [1, 0], [0, 1], [0, 1], [0, 1], [0, 1], [1, 1], [1, 0], [1, 1], [1, 0], [1, 0], [1, 0], [1, 1], [1, 0], [1, 0], [1, 1], [1, 1], [1, 0], [0, 0], [1, 1], [0, 1], [1, 0], [1, 1], [1, 0], [1, 1], [1, 0], [1, 0], [0, 0], [0, 1], [0, 1], [1, 1], [0, 1], [1, 1], [0, 0], [0, 1], [1, 0], [1, 0], [0, 0], [0, 0], [0, 0], [1, 0], [0, 0], [0, 1], [0, 1], [1, 0], [0, 1], [1, 1], [1, 0], [0, 0], [0, 1], [0, 0], [1, 1], [0, 0], [1, 0], [1, 1], [1, 1], [1, 0], [1, 1], [1, 0], [1, 0], [1, 1], [1, 1], [1, 1], [1, 0], [1, 0], [0, 0], [0, 0], [0, 0], [1, 1], [1, 1], [0, 1], [1, 1], [1, 1], [0, 1], [1, 0], [1, 1], [0, 1], [0, 1], [1, 0], [1, 0], [0, 1], [1, 0], [1, 1], [1, 0], [1, 1], [0, 0], [1, 1], [0, 0], [0, 1], [0, 0], [0, 1], [0, 0], [1, 1], [1, 1], [1, 1], [0, 0], [0, 1], [1, 0], [0, 0], [0, 1], [0, 0], [1, 1], [1, 0], [0, 1], [0, 1], [0, 1], [0, 0], [0, 0], [1, 0], [0, 0], [0, 0], [1, 0], [1, 0], [1, 0], [1, 1], [1, 0], [0, 1], [0, 0], [1, 0], [1, 1], [0, 0], [0, 0], [0, 1], [1, 0], [0, 1], [1, 0], [0, 1], [0, 1], [1, 0], [0, 1], [1, 0], [1, 0], [0, 0], [0, 1], [1, 1], [0, 1], [1, 1], [1, 0], [1, 1], [1, 0], [0, 1], [1, 0], [0, 1], [1, 1], [1, 1], [1, 0], [1, 0], [0, 0], [0, 1], [0, 1], [0, 1]], dtype=np.uint8)})\n",
            "Counter({1: 271, 2: 248, 3: 247, 0: 234})\n"
          ],
          "name": "stdout"
        }
      ]
    },
    {
      "cell_type": "code",
      "metadata": {
        "colab": {
          "base_uri": "https://localhost:8080/"
        },
        "id": "QhlktW43dBhA",
        "outputId": "309e305c-b162-42b3-ec24-df37f5323ac4"
      },
      "source": [
        "def count_results(e):\n",
        "  if e[0] == e[1]:\n",
        "    return 'agree'\n",
        "  else:\n",
        "    return 'disagree'\n",
        "\n",
        "# The same output like from the previous print statement\n",
        "print(result.histogram(key='a,b', fold_func=count_results))\n"
      ],
      "execution_count": null,
      "outputs": [
        {
          "output_type": "stream",
          "text": [
            "Counter({'disagree': 519, 'agree': 481})\n"
          ],
          "name": "stdout"
        }
      ]
    },
    {
      "cell_type": "markdown",
      "metadata": {
        "id": "i9xqe5wOeJHi"
      },
      "source": [
        "# Parameterized Circuits\n",
        "Cirq also supports parameterized gates with symbolic values via **sympy**.\n",
        "\n",
        "These are placeholder values, such as sympy.Symbol('x'), that will only be resolved at run-time.\n",
        "\n",
        "For simulators these values are resolved by providing a **ParamResolver**. A ***ParamResolver*** provides a map from the symbol's name to its assigned value.\n",
        "\n",
        "**Note:**Plain python dictionaries can be used whenever a ParamResolver is needed."
      ]
    },
    {
      "cell_type": "code",
      "metadata": {
        "id": "VV9plNKldRRy",
        "colab": {
          "base_uri": "https://localhost:8080/"
        },
        "outputId": "87f6005f-4058-4c86-e455-93a29dda26bf"
      },
      "source": [
        "import sympy as sp\n",
        "\n",
        "a = cirq.NamedQubit('a')\n",
        "b = cirq.NamedQubit('b')\n",
        "simulator = cirq.Simulator()\n",
        "\n",
        "# a sympy Symbol\n",
        "val = sp.Symbol('s')\n",
        "# the symbol is used in a sympy expression\n",
        "pow_x_gate = cirq.X**val\n",
        "\n",
        "# the circuit will consist of two parameterized gates\n",
        "circuit = cirq.Circuit()\n",
        "circuit.append([pow_x_gate(a), pow_x_gate(b)])\n",
        "\n",
        "print('Circuit with parameterized gates -- the symbol is \"s\" ')\n",
        "print(circuit)\n",
        "print()\n",
        "\n",
        "for y in range(5):\n",
        "  # python dictionary to be used in the simulator\n",
        "  the_dictionary = {'s': y/4.0} # this assigns the values 0.0, 0.25, 0.5, 0.75 and 1.0 to 's'\n",
        "\n",
        "  result = simulator.simulate(circuit, param_resolver=the_dictionary)\n",
        "  # print(repr(result))\n",
        "  print('s={}:{}'.format(y, np.around(result.final_state, 2)))\n"
      ],
      "execution_count": 10,
      "outputs": [
        {
          "output_type": "stream",
          "text": [
            "Circuit with parameterized gates -- the symbol is \"s\" \n",
            "a: ───X^s───\n",
            "\n",
            "b: ───X^s───\n",
            "\n",
            "s=0:[1.+0.j 0.+0.j 0.+0.j 0.+0.j]\n",
            "s=1:[ 0.6 +0.6j   0.25-0.25j  0.25-0.25j -0.1 -0.1j ]\n",
            "s=2:[0. +0.5j 0.5+0.j  0.5+0.j  0. -0.5j]\n",
            "s=3:[-0.1 +0.1j   0.25+0.25j  0.25+0.25j  0.6 -0.6j ]\n",
            "s=4:[0.+0.j 0.+0.j 0.+0.j 1.+0.j]\n"
          ],
          "name": "stdout"
        }
      ]
    },
    {
      "cell_type": "markdown",
      "metadata": {
        "id": "Gc2dGyQmULIp"
      },
      "source": [
        "Here the **Symbol** is used in two gates, and then the resolver provides the value at runtime,\n",
        "\n",
        "Parameterized values are most useful in defining a *Study*.\n",
        "\n",
        "A **Study** is a collection of trials.\n",
        "\n",
        "Each trial is a run with a particular set of configurations and which may be run repeatedly.\n",
        "\n",
        "**Running a study** returns a list of **TrailResult** per set of fixed parameter values and repetitions. For example:\n"
      ]
    },
    {
      "cell_type": "code",
      "metadata": {
        "colab": {
          "base_uri": "https://localhost:8080/"
        },
        "id": "ynAh-0aETbNO",
        "outputId": "b80460b6-2d3c-4012-ad57-cbe47d1d9a91"
      },
      "source": [
        "# Create a list of paramresolvers\n",
        "resolvers = [cirq.ParamResolver({'s': y/8.0}) for y in range(9)]\n",
        "\n",
        "# The circuit to be used in the study uses gates which are parameterized\n",
        "# with sympy Symbols --> see previous cell the definition of pow_x_gate\n",
        "\n",
        "circuit = cirq.Circuit()\n",
        "circuit.append([pow_x_gate(a), pow_x_gate(b)])\n",
        "circuit.append([cirq.measure(a), cirq.measure(b)])\n",
        "\n",
        "results = simulator.run_sweep(program=circuit, params=resolvers, repetitions=200)\n",
        "for i, results in enumerate(results):\n",
        "  print('params: {}\\n{}'.format(result.params.param_dict, result))"
      ],
      "execution_count": 11,
      "outputs": [
        {
          "output_type": "stream",
          "text": [
            "params: {'s': 1.0}\n",
            "measurements: (no measurements)\n",
            "output vector: |11⟩\n",
            "params: {'s': 1.0}\n",
            "measurements: (no measurements)\n",
            "output vector: |11⟩\n",
            "params: {'s': 1.0}\n",
            "measurements: (no measurements)\n",
            "output vector: |11⟩\n",
            "params: {'s': 1.0}\n",
            "measurements: (no measurements)\n",
            "output vector: |11⟩\n",
            "params: {'s': 1.0}\n",
            "measurements: (no measurements)\n",
            "output vector: |11⟩\n",
            "params: {'s': 1.0}\n",
            "measurements: (no measurements)\n",
            "output vector: |11⟩\n",
            "params: {'s': 1.0}\n",
            "measurements: (no measurements)\n",
            "output vector: |11⟩\n",
            "params: {'s': 1.0}\n",
            "measurements: (no measurements)\n",
            "output vector: |11⟩\n",
            "params: {'s': 1.0}\n",
            "measurements: (no measurements)\n",
            "output vector: |11⟩\n"
          ],
          "name": "stdout"
        }
      ]
    },
    {
      "cell_type": "markdown",
      "metadata": {
        "id": "2DOVWAMFaiYS"
      },
      "source": [
        "# The QAOA algrithm\n",
        "\n",
        "We discussed the QAOA algorithm in the lectures.\n",
        "Here, we will briefly recall what it is about before we implement it.\n",
        "\n",
        "QAOA aims to approximate the solution of a combinatorial optimization problem.\n",
        "Combinatorial optimization problems can be formulated as a minimization of a cost function ***C***(z) that depends on a collection of variables z= z1,z2,...,zn, where each zj can be equal to either +1 or -1 (the important thing here is that each zj has two possible values, and by convention we choose those values to be $\\pm$1).\n",
        "\n",
        "The QAOA is a general-purpose algrithm whose goal is to produce an assignment of the zj that gives a relatively low value of ***C***(z)--hence the name \"**Approximate**\".\n",
        "\n",
        "The QAOA acts on *n* qubits. Each qubit represents one of the variables in the cost function, and then $2^n$ states of the computational basis correspond to $2^n$ assignments of the z variables.\n",
        "\n",
        "zj correspond to the measurement outcome of the Pauli-Z operator on the jth qubit.\n",
        "\n",
        "In this example, the convention is that the state |0> corresponds to z=+1, while the state |1> corresponds to z=-1.\n",
        "\n",
        "=> Need a quantum representation of ***C***(z) that we intend to minimize. \\\\\n",
        "->replace zj in ***C*** with Pauli operator **Z**j. \\\\\n",
        "For example, if \n",
        "                 ***C***(z) = 3z1z2 -z2z3 + z4 \\\\\n",
        "then\n",
        "                 ***C(z)*** = 3Z1Z2 -Z2Z3 + Z4\n",
        "\n",
        "=> ***C(z)*** is a matrix this is diagonal in the computational basis. \\\\\n",
        "Its diagonal entries represent all possible values of ***C***(z).\n",
        "\n",
        "To find the minimum of ***C*** we minimize \\\\\n",
        "**F = <C(Z)>**\n",
        "\n",
        "The circuit of the QAOA algorithm starts with all qubits initialized in the \n",
        "|0> state.\n",
        "\n",
        "The first step is to apply the Hadamard operator on each qubit. This prepares an equal superposition of all bitstrings, i.e., an equal superposition of all possible z assignments: \\\\\n",
        "           $H^n |0^n> = 1/2^{n/2} \\sum_{x \\epsilon {(0,1)}^n}^{} |x>$.\n",
        "Think of this as the 'real' initial state of the algorithm.\n",
        "\n",
        "The remaining steps are designed to affect the amplitudes so that those with small ***C(z)*** values grow while those with large  ***C(z)*** values shrink.\n",
        "\n",
        "=> At the end when we measure the qubits we'll be more likely to find a bitstring with a small value of ***C(z)***. \\\\"
      ]
    },
    {
      "cell_type": "markdown",
      "metadata": {
        "id": "qL-9LfwjXxdj"
      },
      "source": [
        "The main part of the algorithm relies on applying unitary operators\n",
        "$U(\\gamma, C) = e^{i \\pi \\gamma C(Z)/2}$, \\\\\n",
        "and \\\\\n",
        "$U(\\beta, B) = \\prod_{j=1}^{n} e^{i \\pi \\beta X_j/2}$, \\\\\n",
        "in an alternating sqauence. \\\\\n",
        "\n",
        "$\\beta$ and $\\gamma$ are the variational parameters that will be adjusted to minimize $F$,\n",
        "\n",
        "After acting with $H^n$, we act with $U(\\gamma , C)$.\n",
        "\n",
        "The result is still a sum over all possible bit-strings, but now the coefficients are complex phases which depend on $C$.\n",
        "\n",
        "Nonetheless, each bit-string is still equally likely.\n",
        "\n",
        "The operation $U(\\beta, B)$ is not diagonal in the computational basis, and the resulting state will not be an equal superposition over all bitstrings.\n",
        "\n",
        "After this step, there will be constructive and destructive interference, which can lead to an enhancement of states corresponding to small values of $C$.\n",
        "\n",
        "$U(\\beta, B)$ is sometimes called a 'mixing' operation.\n",
        "\n",
        "The total circuit consists of repeating $U(\\beta, B)$ $U(\\gamma, C)$ a total of *p* $\\geq$ 1 times, where *p* cna be chosen.\n",
        "\n",
        "The parameters $\\gamma$ and $\\beta$ can be chosen independently at each step. So at the end of the circuit, the state of the qubits is \\\\\n",
        "\n",
        "|$\\gamma, \\beta$> =  $U(\\beta_p, B)$ $U(\\gamma_p, C)$...$U(\\beta_1, B)$ $U(\\gamma_1, C)$ $H^n$ |$0^n$> \\\\\n",
        "if we choose $\\gamma$ and $\\beta$ so that the expectation value \\\\\n",
        "$F = $< $\\gamma, \\beta$ |C(Z)| $\\gamma, \\beta$> \\\\\n",
        "is minimized, then measuring the state |$\\gamma, \\beta$> in computational basis gives us a good candidate bitstring for the minimum of $C(Z)$.\n",
        "\n",
        "Note that, up to an inconsequential global phase, we can also write \\\\\n",
        "$U(\\beta, B) = \\prod_{j=1}^{n} X_j^{\\beta}$. \\\\\n",
        "\n",
        "=> Tasks in order to implement QAOA: \\\\\n",
        "1. Figure out how to perform the $U(\\gamma, C)$ operation in Cirq for our choice of $C$.\n",
        "2. Create a quntum circuit laternating $U(\\gamma, C)$ and $U(\\beta, B)$ operations as many times as desired.\n",
        "3. Find the optimal value of the variational parameters in our circuit.\n",
        "4. Meausre the output of our circuit.\n",
        "\n",
        "\n",
        "\n",
        "\n",
        "\n",
        "\n",
        "\n",
        "\n",
        "\n"
      ]
    },
    {
      "cell_type": "markdown",
      "metadata": {
        "id": "SXEuJD25fFcs"
      },
      "source": [
        "# Toy problem: ground state of Ising model"
      ]
    },
    {
      "cell_type": "markdown",
      "metadata": {
        "id": "Sz9SDNcbfM58"
      },
      "source": [
        "The Ising Model defines the energy function \\\\\n",
        "$E = -\\sum_{<i,j>}Z_iZ_j -\\sum_{i}h_iZ_i$, \\\\\n",
        "where the notation <i,j> means a sum over all nearest-neighbor pairs. The term $h_iZ_i$ have the same form as a magnetic field that polarises spins in a magnet."
      ]
    },
    {
      "cell_type": "markdown",
      "metadata": {
        "id": "w8OWryhxjjer"
      },
      "source": [
        "# ZZ Gate\n",
        "What we need to do is to create the operation $U(\\gamma, C)$, where $C$ is equal to the Ising Model energy function.\n",
        "\n",
        "Since all of the terms in the energy commute, we can decompose this operation as \\\\\n",
        "$U(\\gamma, C) = \\prod_{<i,j>}^{} e^{-i \\pi \\gamma Z_i Z_j/2} \\prod_{i}^{} e^{-i \\pi \\gamma Z_i/2}$ \\\\\n",
        "Need to have the two-qubit gate $exp{(-i \\pi \\gamma Z Z/2)}$. In matrix form, this is \\\\\n",
        "$exp{(-i \\pi \\gamma Z \\bigotimes Z/2)}$ = \\begin{bmatrix}\n",
        "e^{-i \\pi \\gamma/2} & 0 & 0 &0\\\\\n",
        "0 & e^{i \\pi \\gamma/2} & 0 & 0 \\\\\n",
        "0 & 0 & e^{i \\pi \\gamma/2} & 0 \\\\\n",
        "0 & 0 & 0 & e^{-i \\pi \\gamma/2}\n",
        "\\end{bmatrix} \n",
        "\n",
        "***Cirq*** has a built-in gate *cirq.ZZ* which is equivalent to this up to a global phase:"
      ]
    },
    {
      "cell_type": "code",
      "metadata": {
        "colab": {
          "base_uri": "https://localhost:8080/"
        },
        "id": "M6z1N8g1XvYm",
        "outputId": "b02b5e8d-7442-4364-b0ea-eef49bfeaf32"
      },
      "source": [
        "a = cirq.NamedQubit('a')\n",
        "b = cirq.NamedQubit('b')\n",
        "gamma = 0.3 # Put your own value here.\n",
        "circuit = cirq.Circuit(cirq.ZZ(a, b)**gamma)\n",
        "print(circuit, '\\n')\n",
        "cirq.unitary(circuit).round(2) "
      ],
      "execution_count": 13,
      "outputs": [
        {
          "output_type": "stream",
          "text": [
            "a: ───ZZ───────\n",
            "      │\n",
            "b: ───ZZ^0.3─── \n",
            "\n"
          ],
          "name": "stdout"
        },
        {
          "output_type": "execute_result",
          "data": {
            "text/plain": [
              "array([[1.  +0.j  , 0.  +0.j  , 0.  +0.j  , 0.  +0.j  ],\n",
              "       [0.  +0.j  , 0.59+0.81j, 0.  +0.j  , 0.  +0.j  ],\n",
              "       [0.  +0.j  , 0.  +0.j  , 0.59+0.81j, 0.  +0.j  ],\n",
              "       [0.  +0.j  , 0.  +0.j  , 0.  +0.j  , 1.  +0.j  ]])"
            ]
          },
          "metadata": {
            "tags": []
          },
          "execution_count": 13
        }
      ]
    },
    {
      "cell_type": "markdown",
      "metadata": {
        "id": "m-pARx_Ar0jR"
      },
      "source": [
        "Check that the matrix is what we expect:\n"
      ]
    },
    {
      "cell_type": "code",
      "metadata": {
        "colab": {
          "base_uri": "https://localhost:8080/"
        },
        "id": "LodypdwYrs_N",
        "outputId": "1667459e-f46a-475b-fa5d-9db9912b88cd"
      },
      "source": [
        "test_matrix = np.array([[np.exp(-1j*np.pi*gamma/2), 0, 0,0],\n",
        "                        [0, np.exp(1j*np.pi*gamma/2), 0, 0],\n",
        "                        [0, 0, np.exp(1j*np.pi*gamma/2), 0],\n",
        "                        [0, 0, 0, np.exp(-1j*np.pi*gamma/2)]])\n",
        "\n",
        "\"\"\"\n",
        "Have a look at the function from cirq.testing\n",
        "\"\"\"\n",
        "print(cirq.testing.assert_allclose_up_to_global_phase(test_matrix, cirq.unitary(circuit), atol=1e-5))"
      ],
      "execution_count": 22,
      "outputs": [
        {
          "output_type": "stream",
          "text": [
            "None\n"
          ],
          "name": "stdout"
        }
      ]
    },
    {
      "cell_type": "markdown",
      "metadata": {
        "id": "nrfqGHs0uujn"
      },
      "source": [
        "# Z Gate\n",
        "\n",
        "The magnetic field terms can be handled in a similar way. The single-qubit unitary \\\\\n",
        "$exp{(-i \\pi \\gamma h Z/2)}$ = \\begin{bmatrix}\n",
        "e^{-i \\pi \\gamma h/2} & 0 \\\\\n",
        "0 & e^{i \\pi \\gamma h/2} \\\\\n",
        "\\end{bmatrix} \n",
        "\n",
        "is equivalent up to global phase to $cirq.Z^{(h*\\gamma)}$:\n"
      ]
    },
    {
      "cell_type": "code",
      "metadata": {
        "colab": {
          "base_uri": "https://localhost:8080/"
        },
        "id": "Q3E0K5kbtE1T",
        "outputId": "0a9cb595-6f05-463b-8bfa-eaeb9a1599e1"
      },
      "source": [
        "a = cirq.NamedQubit('a')\n",
        "gamma = 0.3 # put your own value here.\n",
        "h = 1.3 # put your own value here.\n",
        "circuit = cirq.Circuit(cirq.Z(a)**(gamma*h))\n",
        "\n",
        "print(circuit,'\\n')\n",
        "print(cirq.unitary(circuit).round(2))\n",
        "\n",
        "\n",
        "\n",
        "test_matrix = np.array([[np.exp(-1j*np.pi*gamma*h/2), 0],\n",
        "                        [0, np.exp(1j*np.pi*gamma*h/2)]])\n",
        "\n",
        "\"\"\"\n",
        "Have a look at the function from cirq.testing\n",
        "\"\"\"\n",
        "print(cirq.testing.assert_allclose_up_to_global_phase(test_matrix, cirq.unitary(circuit), atol=1e-5))"
      ],
      "execution_count": 23,
      "outputs": [
        {
          "output_type": "stream",
          "text": [
            "a: ───Z^0.39─── \n",
            "\n",
            "[[1.  +0.j   0.  +0.j  ]\n",
            " [0.  +0.j   0.34+0.94j]]\n",
            "None\n"
          ],
          "name": "stdout"
        }
      ]
    },
    {
      "cell_type": "markdown",
      "metadata": {
        "id": "zaloO-S0wuW3"
      },
      "source": [
        "# Create the circuit\n",
        "\n",
        "Using the *cirq.ZZ* gate we can now create the QAQA circuit.\n",
        "We're going to focus on the Ising Model on a rectangular lattice with an arbitrary number of rows and columns.\n",
        "\n",
        "First, we will define the basic parameters of our model and the generators for the different layers:"
      ]
    },
    {
      "cell_type": "code",
      "metadata": {
        "id": "MrI7H1mfwrp8"
      },
      "source": [
        "n_cols = 3\n",
        "n_rows = 3\n",
        "h = 0.5*np.ones((n_cols, n_rows))\n",
        "\n",
        "# Arranging the qubits in a list-of-lists like, this makes them easy to be refered to later.\n",
        "qubits = [[cirq.GridQubit(i,j) for j in range(n_cols)] for i in range(n_rows)]\n",
        "\n",
        "def beta_layer(beta):\n",
        "  \"\"\"Generator for U(beta, B) layer (mixing layer) of QAOA\"\"\"\n",
        "  for row in qubits:\n",
        "    for qubit in row:\n",
        "      yield cirq.X(qubit)**beta \n",
        "\n",
        "def gamma_layer(gamma, h):\n",
        "  \"\"\"Generator for U(gamma, C) layer  of QAOA\n",
        "  Args:\n",
        "     gamma: Float variational parameter for the circuit\n",
        "     h: Array of floats of external magnetic field values\n",
        "  \"\"\"\n",
        "  for i in range(n_rows):\n",
        "    for j in range(n_cols):\n",
        "      if i < n_rows - 1:\n",
        "        yield cirq.ZZ(qubits[i][j], qubits[i+1][j])**gamma  \n",
        "      \n",
        "      if j < n_cols - 1:\n",
        "        yield cirq.ZZ(qubits[i][j], qubits[i][j+1])**gamma     \n"
      ],
      "execution_count": 24,
      "outputs": []
    },
    {
      "cell_type": "markdown",
      "metadata": {
        "id": "n4qL8YWd1mTD"
      },
      "source": [
        "Construct the circuit using these functions. \\\\\n",
        "We will illustrate this for a single $C$ layer and a single $B$ layer."
      ]
    },
    {
      "cell_type": "code",
      "metadata": {
        "colab": {
          "base_uri": "https://localhost:8080/"
        },
        "id": "G2fEHFna1lJV",
        "outputId": "a303e5a5-51f2-4878-9578-ee3f23383f25"
      },
      "source": [
        "qaoa = cirq.Circuit()\n",
        "\n",
        "# The initialization of the qubits with Hadamard gates\n",
        "qaoa.append(cirq.H.on_each(*[q for row in qubits for q in row]))\n",
        "\n",
        "# A gamma layer parameter\n",
        "gamma = sympy.Symbol('g')\n",
        "\n",
        "# A beta layer parameter\n",
        "beta = sympy.Symbol('b')\n",
        "\n",
        "# The layers\n",
        "qaoa.append(gamma_layer(gamma, h))\n",
        "qaoa.append(cirq.Moment(beta_layer(beta)))\n",
        "\n",
        "# print\n",
        "print(qaoa)"
      ],
      "execution_count": 25,
      "outputs": [
        {
          "output_type": "stream",
          "text": [
            "                                           ┌────────┐\n",
            "(0, 0): ───H───ZZ─────ZZ─────────────────────────────────────────────────────X^b───\n",
            "               │      │\n",
            "(0, 1): ───H───┼──────ZZ^g───ZZ─────ZZ───────────────────────────────────────X^b───\n",
            "               │             │      │\n",
            "(0, 2): ───H───┼─────────────┼──────ZZ^g────ZZ───────────────────────────────X^b───\n",
            "               │             │              │\n",
            "(1, 0): ───H───ZZ^g───ZZ─────┼──────ZZ──────┼────────────────────────────────X^b───\n",
            "                      │      │      │       │\n",
            "(1, 1): ───H──────────┼──────ZZ^g───ZZ^g────┼───ZZ──────ZZ───────────────────X^b───\n",
            "                      │                     │   │       │\n",
            "(1, 2): ───H──────────┼─────────────────────ZZ^g┼───────ZZ^g───ZZ────────────X^b───\n",
            "                      │                         │              │\n",
            "(2, 0): ───H──────────ZZ^g──────────────────────┼───────ZZ─────┼─────────────X^b───\n",
            "                                                │       │      │\n",
            "(2, 1): ───H────────────────────────────────────ZZ^g────ZZ^g───┼──────ZZ─────X^b───\n",
            "                                                               │      │\n",
            "(2, 2): ───H───────────────────────────────────────────────────ZZ^g───ZZ^g───X^b───\n",
            "                                           └────────┘\n"
          ],
          "name": "stdout"
        }
      ]
    },
    {
      "cell_type": "markdown",
      "metadata": {
        "id": "4kk3Gr3y3aig"
      },
      "source": [
        "Here the horizontal rectangular brackets indicate that all gates within the bracket are within one single Moment.\n",
        "\n",
        "As a consequence, some **Z** gates can not move further to the left."
      ]
    },
    {
      "cell_type": "markdown",
      "metadata": {
        "id": "RldnQmts30PH"
      },
      "source": [
        "# Expectation value\n",
        "To train the QAOA circuit--that is to find the optimal values of the parameters--we need to be able to compute the expectation value of the Ising Model energy.\n",
        "\n",
        "-> One can do this within ***Cirq*** by defining an energy function.\n",
        "\n",
        "Divide the total energy by the number of qubits to keep the numbers under control.\n",
        "\n",
        "On the real quntum hardware, the onyl way to compute the expectation value of the energy would be to estimate it by sampling.\n",
        "\n",
        "we will consider sampling later.\n",
        "\n",
        "Using the simulator, we can alternatively compute the wavefunction and then calculate the expectation value from that.\n",
        "\n",
        "-> No need to worry about statistical error and much faster than simulating the sampling process.\n"
      ]
    },
    {
      "cell_type": "code",
      "metadata": {
        "id": "FbK6q8GG3SIA"
      },
      "source": [
        "def energy_from_wavefunction(wf, h):\n",
        "  \"\"\"Compute the energy-per-site of the Ising Model directly from the giveb wavefunction.\n",
        "  \n",
        "  Args:\n",
        "    wf: array of size 2**(n_rows*n_cols) specifying the wavefunction.\n",
        "    h:  array of shape(n_rows, n_cols) giving the magnetic fields.\n",
        "\n",
        "  Returns:\n",
        "   Energy in float numbers which equal to the expectation value of the energy per site\n",
        "  \"\"\"\n",
        "\n",
        "  n_sites = n_rows * n_cols\n",
        "\n",
        "  # Z is an array of shape (n_sites, 2**n_sites). Each row consists of the 2**n_sites non-zero entries in the operator that is Pauli_Z matrix on \n",
        "  # one of the qubits times the identies on the other qubits. The (i*n_cols + j) row corresponds to qubit (i,j).\n",
        "\n",
        "  Z = np.array([(-1)**(np.arange(2**n_sites) >> i) for i in range(n_sites-1, -1, -1)])\n",
        "\n",
        "  # Create the operator corrosponding to the interaction energy summed over all nearest-neighbor pairs of qubits\n",
        "  ZZ_filter = np.zeros_like(wf, dtype=float)\n",
        "  for i in range(n_rows):\n",
        "    for j in range(n_cols):\n",
        "      if i < n_rows - 1:\n",
        "        ZZ_filter += Z[i*n_cols + j]*Z[(i+1)*n_cols + j]\n",
        "      if j < n_cols - 1:\n",
        "        ZZ_filter += Z[i*n_cols + j]*Z[i*n_cols + (j+1)] \n",
        "\n",
        "  energy_operator = -ZZ_filter - h.reshape(n_sites).dot(Z)\n",
        "\n",
        "  # Expectation value of the energy divided by the number of sites\n",
        "  return np.sum(np.abs(wf)**2 * energy_operator) / n_sites"
      ],
      "execution_count": 28,
      "outputs": []
    },
    {
      "cell_type": "markdown",
      "metadata": {
        "id": "shqsAHd4CdhZ"
      },
      "source": [
        "For qubit(i,j), its $Z$ operator is \\\\\n",
        "\n",
        "$Z_{i,j} = I \\bigotimes ... \\bigotimes I \\bigotimes Z \\bigotimes I \\bigotimes ... \\bigotimes I$ \\\\\n",
        " \n",
        "Need a helper function to compute the expected value of the energy given some parameters of the QAOA."
      ]
    },
    {
      "cell_type": "code",
      "metadata": {
        "id": "WLU652_8CVxl"
      },
      "source": [
        "def energy_from_params(gamma, beta, qaoa, h):\n",
        "  sim = cirq.Simulator()\n",
        "  params = cirq.ParamResolver({'g':gamma, 'b':beta})\n",
        "  wf = sim.simulate(qaoa, param_resolver=params).final_state\n",
        "  return energy_from_wavefunction(wf, h)"
      ],
      "execution_count": 29,
      "outputs": []
    },
    {
      "cell_type": "markdown",
      "metadata": {
        "id": "mCwm_UnQEOzv"
      },
      "source": [
        "# Training - Brute Force\n",
        "Now we need to figure out the best value for $\\gamma$ and $\\beta$ by minimizing the expectation value of energy. \\\\\n",
        "We first do a brute-force search of the parameter space for illustrative purposes:"
      ]
    },
    {
      "cell_type": "code",
      "metadata": {
        "id": "4yktFcfuEN90"
      },
      "source": [
        "grid_size = 50\n",
        "gamma_max = 2\n",
        "beta_max = 2\n",
        "\n",
        "energies = np.zeros((grid_size, grid_size))\n",
        "for i in range(grid_size):\n",
        "  for j in range(grid_size):\n",
        "    energies[i,j] = energy_from_params(i*gamma_max/grid_size, j*beta_max/grid_size, qaoa, h)"
      ],
      "execution_count": 32,
      "outputs": []
    },
    {
      "cell_type": "code",
      "metadata": {
        "colab": {
          "base_uri": "https://localhost:8080/",
          "height": 313
        },
        "id": "P9aIPHYqGXI4",
        "outputId": "73f5b390-747f-473c-dd83-245b10be41ca"
      },
      "source": [
        "plt.ylabel('gamma')\n",
        "plt.xlabel('beta')\n",
        "plt.title('Energy as a function of parameters')\n",
        "plt.imshow(energies, extent=(0, beta_max, gamma_max, 0))\n",
        "# Yellow is maximum, indigo is minimum\n",
        "plt.colorbar()"
      ],
      "execution_count": 33,
      "outputs": [
        {
          "output_type": "execute_result",
          "data": {
            "text/plain": [
              "<matplotlib.colorbar.Colorbar at 0x7f4ea61b8390>"
            ]
          },
          "metadata": {
            "tags": []
          },
          "execution_count": 33
        },
        {
          "output_type": "display_data",
          "data": {
            "image/png": "[encoded data removed]",
            "text/plain": [
              "<Figure size 432x288 with 2 Axes>"
            ]
          },
          "metadata": {
            "tags": [],
            "needs_background": "light"
          }
        }
      ]
    },
    {
      "cell_type": "markdown",
      "metadata": {
        "id": "CgkS0sawHRSN"
      },
      "source": [
        "There are many local minima and maxiuma \\\\\n",
        "\n",
        "Can make it challenging to use gradient-based methods for optimization"
      ]
    },
    {
      "cell_type": "markdown",
      "metadata": {
        "id": "ZUZ1Ycw3HoBq"
      },
      "source": [
        "# Training - Gradient Descent\n",
        "\n",
        "Try to minimize the energy by gradient decent. \n",
        "\n",
        "We know there are local minimua where we might get stucked depending on the initialization, but it's still a good exercise.\n",
        "\n",
        "***First step:*** Define a function which approximates the gradient of the energy. We will do this by symmetric difference \\\\\n",
        "\n",
        "$f'(x) \\approx \\frac{f(x+\\epsilon) - f(x-\\epsilon)}{2 \\epsilon}$\n",
        "\n",
        "Good exercise to play with different values of $\\epsilon$ as well as different formulas for the gradient."
      ]
    },
    {
      "cell_type": "code",
      "metadata": {
        "id": "xW-1A33tHBIn"
      },
      "source": [
        "def gradient_energy(gamma, beta, qaoa, h):\n",
        "  \"\"\"use a symmetric difference to calculate the gradient.\"\"\"\n",
        "  eps = 10**-3 # Try different values of the dicretization parameter\n",
        "\n",
        "  # Gamma-component of the gradient\n",
        "  grad_g = energy_from_params(gamma + eps, beta, qaoa, h)\n",
        "  grad_g -= energy_from_params(gamma - eps, beta, qaoa, h)\n",
        "  grad_g /= 2*eps\n",
        "\n",
        "  # Beta-component of the gradient\n",
        "  grad_b = energy_from_params(gamma, beta + eps, qaoa, h)\n",
        "  grad_b -= energy_from_params(gamma, beta - eps, qaoa, h)\n",
        "  grad_b /= 2*eps \n",
        "\n",
        "  return grad_g, grad_b"
      ],
      "execution_count": 34,
      "outputs": []
    },
    {
      "cell_type": "markdown",
      "metadata": {
        "id": "W4Z9kUDcKWcx"
      },
      "source": [
        "# Second step:\n",
        "Implement a gradient descent algorithm to minimize the energy.\n",
        "\n",
        "Gradient decent is an iteraction to minimize a function f(x) via \\\\\n",
        "\n",
        "$x_{j+1} = x_j - \\eta \\frac{df}{dx} |_{x=x_j}$"
      ]
    },
    {
      "cell_type": "code",
      "metadata": {
        "colab": {
          "base_uri": "https://localhost:8080/"
        },
        "id": "KDaj1BPRKUKQ",
        "outputId": "7e278e2d-e3bd-45a9-c394-d40f392ee243"
      },
      "source": [
        "# Note we may get stuck in local minima depending on the initilization.\n",
        "\n",
        "gamma, beta = 0.2, 0.7 # try different initialization\n",
        "eta = 10**-2 # try to adjust the learning rate.\n",
        "\n",
        "# The number of gradient deacent steps\n",
        "nr_iterations = 251\n",
        "for i in range(nr_iterations):\n",
        "  # compute the gardients\n",
        "  grad_g, grad_b = gradient_energy(gamma, beta, qaoa, h)\n",
        "\n",
        "  # updating gamma and beta using learning rate and gradients\n",
        "  gamma -= eta*grad_g\n",
        "  beta -= eta*grad_b\n",
        "\n",
        "  if not i%25:\n",
        "    # every 25 steps print to console\n",
        "    print('Step: {} Energy:{}'.format(i, energy_from_params(gamma, beta, qaoa, h)))\n",
        "\n",
        "# the final parameters are\n",
        "print('Learned gamma: {} learned beta: {}'.format(gamma, beta, qaoa, h))"
      ],
      "execution_count": 36,
      "outputs": [
        {
          "output_type": "stream",
          "text": [
            "Step: 0 Energy:0.49836250584404396\n",
            "Step: 25 Energy:-0.5371561056825966\n",
            "Step: 50 Energy:-0.5376657607509211\n",
            "Step: 75 Energy:-0.537665855507334\n",
            "Step: 100 Energy:-0.5376658944482592\n",
            "Step: 125 Energy:-0.5376658273712059\n",
            "Step: 150 Energy:-0.5376655867116319\n",
            "Step: 175 Energy:-0.5376656650898641\n",
            "Step: 200 Energy:-0.5376657012570326\n",
            "Step: 225 Energy:-0.5376655064109299\n",
            "Step: 250 Energy:-0.5376654435903119\n",
            "Learned gamma: 0.20701606118531882 learned beta: 0.25000255983476305\n"
          ],
          "name": "stdout"
        }
      ]
    },
    {
      "cell_type": "markdown",
      "metadata": {
        "id": "XzwKDVtBOQeR"
      },
      "source": [
        "# Training results\n",
        "\n",
        "We've optimized our paraeters. How well did we do?\n",
        "\n"
      ]
    },
    {
      "cell_type": "code",
      "metadata": {
        "id": "-VtcgizxOJlU"
      },
      "source": [
        ""
      ],
      "execution_count": null,
      "outputs": []
    }
  ]
}